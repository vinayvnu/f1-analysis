{
 "cells": [
  {
   "cell_type": "markdown",
   "metadata": {
    "application/vnd.databricks.v1+cell": {
     "cellMetadata": {},
     "inputWidgets": {},
     "nuid": "dc411a82-3ff2-4475-99af-043317eeb4f6",
     "showTitle": false,
     "tableResultSettingsMap": {},
     "title": ""
    }
   },
   "source": [
    "### Steps\n",
    "##### 1. read files\n",
    "##### 2. duplicate check and save unique\n",
    "##### 3. update the hash table"
   ]
  },
  {
   "cell_type": "markdown",
   "metadata": {
    "application/vnd.databricks.v1+cell": {
     "cellMetadata": {},
     "inputWidgets": {},
     "nuid": "50e700d8-48e7-469e-a86e-5e5e47640e9e",
     "showTitle": false,
     "tableResultSettingsMap": {},
     "title": ""
    }
   },
   "source": [
    "### Read files"
   ]
  },
  {
   "cell_type": "code",
   "execution_count": 0,
   "metadata": {
    "application/vnd.databricks.v1+cell": {
     "cellMetadata": {
      "byteLimit": 2048000,
      "rowLimit": 10000
     },
     "inputWidgets": {},
     "nuid": "3bb8a2ac-5507-44d4-b140-473da5d8bc59",
     "showTitle": false,
     "tableResultSettingsMap": {},
     "title": ""
    }
   },
   "outputs": [
    {
     "output_type": "stream",
     "name": "stdout",
     "output_type": "stream",
     "text": [
      "circuits_df loading\nconstructor_results_df loading\nconstructor_standings_df loading\nconstructors_df loading\ndriver_standings_df loading\ndrivers_df loading\nlap_times_df loading\npit_stops_df loading\nqualifying_df loading\nraces_df loading\nresults_df loading\nseasons_df loading\nsprint_results_df loading\nstatus_df loading\n"
     ]
    }
   ],
   "source": [
    "bronze_container = \"abfss://bronze@dataenginedatalake.dfs.core.windows.net\"\n",
    "silver_container = \"abfss://silver@dataenginedatalake.dfs.core.windows.net\"\n",
    "schema = 'f1'\n",
    "import os\n",
    "# silver_path = os.path.join(silver_container, schema)\n",
    "# users_table = os.path.join(os.path.join(silver_container, schema), \"Users\")\n",
    "tables_tuple = (\n",
    "    \"circuits\", \"constructor_results\", \"constructor_standings\", \"constructors\", \"driver_standings\", \n",
    "    \"drivers\", \"lap_times\", \"pit_stops\", \"qualifying\", \"races\", \"results\", \"seasons\", \"sprint_results\",\n",
    "    \"status\")\n",
    "\n",
    "# Dictionary to hold DataFrames\n",
    "dataframes = {}\n",
    "\n",
    "for table in tables_tuple:    \n",
    "    print(f\"{table}_df loading\")\n",
    "    df = spark.read.format('csv')\\\n",
    "        .load(os.path.join(os.path.join(bronze_container, schema), table+\".csv\"), \n",
    "              header=True, inferSchema=True)\n",
    "        \n",
    "    dataframes[table] = df\n",
    "\n",
    "\n",
    "circuits_df = dataframes[\"circuits\"]\n",
    "constructor_results_df = dataframes[\"constructor_results\"]\n",
    "constructor_standings_df = dataframes[\"constructor_standings\"]\n",
    "constructors_df = dataframes[\"constructors\"]\n",
    "driver_standings_df = dataframes[\"driver_standings\"]\n",
    "lap_times_df = dataframes[\"lap_times\"]\n",
    "pit_stops_df = dataframes[\"pit_stops\"]\n",
    "qualifying_df = dataframes[\"qualifying\"]\n",
    "races_df = dataframes[\"races\"]\n",
    "results_df = dataframes[\"results\"]\n",
    "seasons_df = dataframes[\"seasons\"]\n",
    "sprint_results_df = dataframes[\"sprint_results\"]\n",
    "status_df = dataframes[\"status\"]\n",
    "drivers_df = dataframes[\"drivers\"]\n"
   ]
  },
  {
   "cell_type": "markdown",
   "metadata": {
    "application/vnd.databricks.v1+cell": {
     "cellMetadata": {},
     "inputWidgets": {},
     "nuid": "b571d040-421e-4f2f-ba86-496c389faf08",
     "showTitle": false,
     "tableResultSettingsMap": {},
     "title": ""
    }
   },
   "source": [
    "### duplicate check"
   ]
  },
  {
   "cell_type": "code",
   "execution_count": 0,
   "metadata": {
    "application/vnd.databricks.v1+cell": {
     "cellMetadata": {
      "byteLimit": 2048000,
      "rowLimit": 10000
     },
     "inputWidgets": {},
     "nuid": "3199df0d-70a5-4976-9b67-1e71aac3eb8f",
     "showTitle": false,
     "tableResultSettingsMap": {},
     "title": ""
    }
   },
   "outputs": [
    {
     "output_type": "display_data",
     "data": {
      "text/html": [
       "<style scoped>\n",
       "  .table-result-container {\n",
       "    max-height: 300px;\n",
       "    overflow: auto;\n",
       "  }\n",
       "  table, th, td {\n",
       "    border: 1px solid black;\n",
       "    border-collapse: collapse;\n",
       "  }\n",
       "  th, td {\n",
       "    padding: 5px;\n",
       "  }\n",
       "  th {\n",
       "    text-align: left;\n",
       "  }\n",
       "</style><div class='table-result-container'><table class='table-result'><thead style='background-color: white'><tr><th>circuitId</th><th>circuitRef</th><th>name</th><th>location</th><th>country</th><th>lat</th><th>lng</th><th>alt</th><th>url</th></tr></thead><tbody><tr><td>1</td><td>albert_park</td><td>Albert Park Grand Prix Circuit</td><td>Melbourne</td><td>Australia</td><td>-37.8497</td><td>144.968</td><td>10</td><td>http://en.wikipedia.org/wiki/Melbourne_Grand_Prix_Circuit</td></tr><tr><td>2</td><td>sepang</td><td>Sepang International Circuit</td><td>Kuala Lumpur</td><td>Malaysia</td><td>2.76083</td><td>101.738</td><td>18</td><td>http://en.wikipedia.org/wiki/Sepang_International_Circuit</td></tr><tr><td>3</td><td>bahrain</td><td>Bahrain International Circuit</td><td>Sakhir</td><td>Bahrain</td><td>26.0325</td><td>50.5106</td><td>7</td><td>http://en.wikipedia.org/wiki/Bahrain_International_Circuit</td></tr><tr><td>4</td><td>catalunya</td><td>Circuit de Barcelona-Catalunya</td><td>Montmeló</td><td>Spain</td><td>41.57</td><td>2.26111</td><td>109</td><td>http://en.wikipedia.org/wiki/Circuit_de_Barcelona-Catalunya</td></tr><tr><td>5</td><td>istanbul</td><td>Istanbul Park</td><td>Istanbul</td><td>Turkey</td><td>40.9517</td><td>29.405</td><td>130</td><td>http://en.wikipedia.org/wiki/Istanbul_Park</td></tr><tr><td>6</td><td>monaco</td><td>Circuit de Monaco</td><td>Monte-Carlo</td><td>Monaco</td><td>43.7347</td><td>7.42056</td><td>7</td><td>http://en.wikipedia.org/wiki/Circuit_de_Monaco</td></tr><tr><td>7</td><td>villeneuve</td><td>Circuit Gilles Villeneuve</td><td>Montreal</td><td>Canada</td><td>45.5</td><td>-73.5228</td><td>13</td><td>http://en.wikipedia.org/wiki/Circuit_Gilles_Villeneuve</td></tr><tr><td>8</td><td>magny_cours</td><td>Circuit de Nevers Magny-Cours</td><td>Magny Cours</td><td>France</td><td>46.8642</td><td>3.16361</td><td>228</td><td>http://en.wikipedia.org/wiki/Circuit_de_Nevers_Magny-Cours</td></tr><tr><td>9</td><td>silverstone</td><td>Silverstone Circuit</td><td>Silverstone</td><td>UK</td><td>52.0786</td><td>-1.01694</td><td>153</td><td>http://en.wikipedia.org/wiki/Silverstone_Circuit</td></tr><tr><td>10</td><td>hockenheimring</td><td>Hockenheimring</td><td>Hockenheim</td><td>Germany</td><td>49.3278</td><td>8.56583</td><td>103</td><td>http://en.wikipedia.org/wiki/Hockenheimring</td></tr><tr><td>11</td><td>hungaroring</td><td>Hungaroring</td><td>Budapest</td><td>Hungary</td><td>47.5789</td><td>19.2486</td><td>264</td><td>http://en.wikipedia.org/wiki/Hungaroring</td></tr><tr><td>12</td><td>valencia</td><td>Valencia Street Circuit</td><td>Valencia</td><td>Spain</td><td>39.4589</td><td>-0.331667</td><td>4</td><td>http://en.wikipedia.org/wiki/Valencia_Street_Circuit</td></tr><tr><td>13</td><td>spa</td><td>Circuit de Spa-Francorchamps</td><td>Spa</td><td>Belgium</td><td>50.4372</td><td>5.97139</td><td>401</td><td>http://en.wikipedia.org/wiki/Circuit_de_Spa-Francorchamps</td></tr><tr><td>14</td><td>monza</td><td>Autodromo Nazionale di Monza</td><td>Monza</td><td>Italy</td><td>45.6156</td><td>9.28111</td><td>162</td><td>http://en.wikipedia.org/wiki/Autodromo_Nazionale_Monza</td></tr><tr><td>15</td><td>marina_bay</td><td>Marina Bay Street Circuit</td><td>Marina Bay</td><td>Singapore</td><td>1.2914</td><td>103.864</td><td>18</td><td>http://en.wikipedia.org/wiki/Marina_Bay_Street_Circuit</td></tr><tr><td>16</td><td>fuji</td><td>Fuji Speedway</td><td>Oyama</td><td>Japan</td><td>35.3717</td><td>138.927</td><td>583</td><td>http://en.wikipedia.org/wiki/Fuji_Speedway</td></tr><tr><td>17</td><td>shanghai</td><td>Shanghai International Circuit</td><td>Shanghai</td><td>China</td><td>31.3389</td><td>121.22</td><td>5</td><td>http://en.wikipedia.org/wiki/Shanghai_International_Circuit</td></tr><tr><td>18</td><td>interlagos</td><td>Autódromo José Carlos Pace</td><td>São Paulo</td><td>Brazil</td><td>-23.7036</td><td>-46.6997</td><td>785</td><td>http://en.wikipedia.org/wiki/Aut%C3%B3dromo_Jos%C3%A9_Carlos_Pace</td></tr><tr><td>19</td><td>indianapolis</td><td>Indianapolis Motor Speedway</td><td>Indianapolis</td><td>USA</td><td>39.795</td><td>-86.2347</td><td>223</td><td>http://en.wikipedia.org/wiki/Indianapolis_Motor_Speedway</td></tr><tr><td>20</td><td>nurburgring</td><td>Nürburgring</td><td>Nürburg</td><td>Germany</td><td>50.3356</td><td>6.9475</td><td>578</td><td>http://en.wikipedia.org/wiki/N%C3%BCrburgring</td></tr><tr><td>21</td><td>imola</td><td>Autodromo Enzo e Dino Ferrari</td><td>Imola</td><td>Italy</td><td>44.3439</td><td>11.7167</td><td>37</td><td>http://en.wikipedia.org/wiki/Autodromo_Enzo_e_Dino_Ferrari</td></tr><tr><td>22</td><td>suzuka</td><td>Suzuka Circuit</td><td>Suzuka</td><td>Japan</td><td>34.8431</td><td>136.541</td><td>45</td><td>http://en.wikipedia.org/wiki/Suzuka_Circuit</td></tr><tr><td>80</td><td>vegas</td><td>Las Vegas Strip Street Circuit</td><td>Las Vegas</td><td>United States</td><td>36.1147</td><td>-115.173</td><td>642</td><td>https://en.wikipedia.org/wiki/Las_Vegas_Grand_Prix#Circuit</td></tr><tr><td>24</td><td>yas_marina</td><td>Yas Marina Circuit</td><td>Abu Dhabi</td><td>UAE</td><td>24.4672</td><td>54.6031</td><td>3</td><td>http://en.wikipedia.org/wiki/Yas_Marina_Circuit</td></tr><tr><td>25</td><td>galvez</td><td>Autódromo Juan y Oscar Gálvez</td><td>Buenos Aires</td><td>Argentina</td><td>-34.6943</td><td>-58.4593</td><td>8</td><td>http://en.wikipedia.org/wiki/Aut%C3%B3dromo_Oscar_Alfredo_G%C3%A1lvez</td></tr><tr><td>26</td><td>jerez</td><td>Circuito de Jerez</td><td>Jerez de la Frontera</td><td>Spain</td><td>36.7083</td><td>-6.03417</td><td>37</td><td>http://en.wikipedia.org/wiki/Circuito_Permanente_de_Jerez</td></tr><tr><td>27</td><td>estoril</td><td>Autódromo do Estoril</td><td>Estoril</td><td>Portugal</td><td>38.7506</td><td>-9.39417</td><td>130</td><td>http://en.wikipedia.org/wiki/Aut%C3%B3dromo_do_Estoril</td></tr><tr><td>28</td><td>okayama</td><td>Okayama International Circuit</td><td>Okayama</td><td>Japan</td><td>34.915</td><td>134.221</td><td>266</td><td>http://en.wikipedia.org/wiki/TI_Circuit</td></tr><tr><td>29</td><td>adelaide</td><td>Adelaide Street Circuit</td><td>Adelaide</td><td>Australia</td><td>-34.9272</td><td>138.617</td><td>58</td><td>http://en.wikipedia.org/wiki/Adelaide_Street_Circuit</td></tr><tr><td>30</td><td>kyalami</td><td>Kyalami</td><td>Midrand</td><td>South Africa</td><td>-25.9894</td><td>28.0767</td><td>1460</td><td>http://en.wikipedia.org/wiki/Kyalami</td></tr><tr><td>31</td><td>donington</td><td>Donington Park</td><td>Castle Donington</td><td>UK</td><td>52.8306</td><td>-1.37528</td><td>88</td><td>http://en.wikipedia.org/wiki/Donington_Park</td></tr><tr><td>32</td><td>rodriguez</td><td>Autódromo Hermanos Rodríguez</td><td>Mexico City</td><td>Mexico</td><td>19.4042</td><td>-99.0907</td><td>2227</td><td>http://en.wikipedia.org/wiki/Aut%C3%B3dromo_Hermanos_Rodr%C3%ADguez</td></tr><tr><td>33</td><td>phoenix</td><td>Phoenix street circuit</td><td>Phoenix</td><td>USA</td><td>33.4479</td><td>-112.075</td><td>345</td><td>http://en.wikipedia.org/wiki/Phoenix_street_circuit</td></tr><tr><td>34</td><td>ricard</td><td>Circuit Paul Ricard</td><td>Le Castellet</td><td>France</td><td>43.2506</td><td>5.79167</td><td>432</td><td>http://en.wikipedia.org/wiki/Paul_Ricard_Circuit</td></tr><tr><td>35</td><td>yeongam</td><td>Korean International Circuit</td><td>Yeongam County</td><td>Korea</td><td>34.7333</td><td>126.417</td><td>0</td><td>http://en.wikipedia.org/wiki/Korean_International_Circuit</td></tr><tr><td>36</td><td>jacarepagua</td><td>Autódromo Internacional Nelson Piquet</td><td>Rio de Janeiro</td><td>Brazil</td><td>-22.9756</td><td>-43.395</td><td>1126</td><td>http://en.wikipedia.org/wiki/Aut%C3%B3dromo_Internacional_Nelson_Piquet</td></tr><tr><td>37</td><td>detroit</td><td>Detroit Street Circuit</td><td>Detroit</td><td>USA</td><td>42.3298</td><td>-83.0401</td><td>177</td><td>http://en.wikipedia.org/wiki/Detroit_street_circuit</td></tr><tr><td>38</td><td>brands_hatch</td><td>Brands Hatch</td><td>Kent</td><td>UK</td><td>51.3569</td><td>0.263056</td><td>145</td><td>http://en.wikipedia.org/wiki/Brands_Hatch</td></tr><tr><td>39</td><td>zandvoort</td><td>Circuit Park Zandvoort</td><td>Zandvoort</td><td>Netherlands</td><td>52.3888</td><td>4.54092</td><td>6</td><td>http://en.wikipedia.org/wiki/Circuit_Zandvoort</td></tr><tr><td>40</td><td>zolder</td><td>Zolder</td><td>Heusden-Zolder</td><td>Belgium</td><td>50.9894</td><td>5.25694</td><td>36</td><td>http://en.wikipedia.org/wiki/Zolder</td></tr><tr><td>41</td><td>dijon</td><td>Dijon-Prenois</td><td>Dijon</td><td>France</td><td>47.3625</td><td>4.89913</td><td>484</td><td>http://en.wikipedia.org/wiki/Dijon-Prenois</td></tr><tr><td>42</td><td>dallas</td><td>Fair Park</td><td>Dallas</td><td>USA</td><td>32.7774</td><td>-96.7587</td><td>139</td><td>http://en.wikipedia.org/wiki/Fair_Park</td></tr><tr><td>43</td><td>long_beach</td><td>Long Beach</td><td>California</td><td>USA</td><td>33.7651</td><td>-118.189</td><td>12</td><td>http://en.wikipedia.org/wiki/Long_Beach,_California</td></tr><tr><td>44</td><td>las_vegas</td><td>Las Vegas Street Circuit</td><td>Nevada</td><td>USA</td><td>36.1162</td><td>-115.174</td><td>639</td><td>http://en.wikipedia.org/wiki/Las_Vegas_Street_Circuit</td></tr><tr><td>45</td><td>jarama</td><td>Jarama</td><td>Madrid</td><td>Spain</td><td>40.6171</td><td>-3.58558</td><td>609</td><td>http://en.wikipedia.org/wiki/Circuito_Permanente_Del_Jarama</td></tr><tr><td>46</td><td>watkins_glen</td><td>Watkins Glen</td><td>New York State</td><td>USA</td><td>42.3369</td><td>-76.9272</td><td>485</td><td>http://en.wikipedia.org/wiki/Watkins_Glen_International</td></tr><tr><td>47</td><td>anderstorp</td><td>Scandinavian Raceway</td><td>Anderstorp</td><td>Sweden</td><td>57.2653</td><td>13.6042</td><td>153</td><td>http://en.wikipedia.org/wiki/Scandinavian_Raceway</td></tr><tr><td>48</td><td>mosport</td><td>Mosport International Raceway</td><td>Ontario</td><td>Canada</td><td>44.0481</td><td>-78.6756</td><td>332</td><td>http://en.wikipedia.org/wiki/Mosport</td></tr><tr><td>49</td><td>montjuic</td><td>Montjuïc</td><td>Barcelona</td><td>Spain</td><td>41.3664</td><td>2.15167</td><td>79</td><td>http://en.wikipedia.org/wiki/Montju%C3%AFc_circuit</td></tr><tr><td>50</td><td>nivelles</td><td>Nivelles-Baulers</td><td>Brussels</td><td>Belgium</td><td>50.6211</td><td>4.32694</td><td>139</td><td>http://en.wikipedia.org/wiki/Nivelles-Baulers</td></tr><tr><td>51</td><td>charade</td><td>Charade Circuit</td><td>Clermont-Ferrand</td><td>France</td><td>45.7472</td><td>3.03889</td><td>790</td><td>http://en.wikipedia.org/wiki/Charade_Circuit</td></tr><tr><td>52</td><td>tremblant</td><td>Circuit Mont-Tremblant</td><td>Quebec</td><td>Canada</td><td>46.1877</td><td>-74.6099</td><td>214</td><td>http://en.wikipedia.org/wiki/Circuit_Mont-Tremblant</td></tr><tr><td>53</td><td>essarts</td><td>Rouen-Les-Essarts</td><td>Rouen</td><td>France</td><td>49.3306</td><td>1.00458</td><td>81</td><td>http://en.wikipedia.org/wiki/Rouen-Les-Essarts</td></tr><tr><td>54</td><td>lemans</td><td>Le Mans</td><td>Le Mans</td><td>France</td><td>47.95</td><td>0.224231</td><td>67</td><td>http://en.wikipedia.org/wiki/Circuit_de_la_Sarthe#Bugatti_Circuit</td></tr><tr><td>55</td><td>reims</td><td>Reims-Gueux</td><td>Reims</td><td>France</td><td>49.2542</td><td>3.93083</td><td>88</td><td>http://en.wikipedia.org/wiki/Reims-Gueux</td></tr><tr><td>56</td><td>george</td><td>Prince George Circuit</td><td>Eastern Cape Province</td><td>South Africa</td><td>-33.0486</td><td>27.8736</td><td>15</td><td>http://en.wikipedia.org/wiki/Prince_George_Circuit</td></tr><tr><td>57</td><td>zeltweg</td><td>Zeltweg</td><td>Styria</td><td>Austria</td><td>47.2039</td><td>14.7478</td><td>676</td><td>http://en.wikipedia.org/wiki/Zeltweg_Airfield</td></tr><tr><td>58</td><td>aintree</td><td>Aintree</td><td>Liverpool</td><td>UK</td><td>53.4769</td><td>-2.94056</td><td>20</td><td>http://en.wikipedia.org/wiki/Aintree_Motor_Racing_Circuit</td></tr><tr><td>59</td><td>boavista</td><td>Circuito da Boavista</td><td>Oporto</td><td>Portugal</td><td>41.1705</td><td>-8.67325</td><td>28</td><td>http://en.wikipedia.org/wiki/Circuito_da_Boavista</td></tr><tr><td>60</td><td>riverside</td><td>Riverside International Raceway</td><td>California</td><td>USA</td><td>33.937</td><td>-117.273</td><td>470</td><td>http://en.wikipedia.org/wiki/Riverside_International_Raceway</td></tr><tr><td>61</td><td>avus</td><td>AVUS</td><td>Berlin</td><td>Germany</td><td>52.4806</td><td>13.2514</td><td>53</td><td>http://en.wikipedia.org/wiki/AVUS</td></tr><tr><td>62</td><td>monsanto</td><td>Monsanto Park Circuit</td><td>Lisbon</td><td>Portugal</td><td>38.7197</td><td>-9.20306</td><td>158</td><td>http://en.wikipedia.org/wiki/Monsanto_Park_Circuit</td></tr><tr><td>63</td><td>sebring</td><td>Sebring International Raceway</td><td>Florida</td><td>USA</td><td>27.4547</td><td>-81.3483</td><td>18</td><td>http://en.wikipedia.org/wiki/Sebring_Raceway</td></tr><tr><td>64</td><td>ain-diab</td><td>Ain Diab</td><td>Casablanca</td><td>Morocco</td><td>33.5786</td><td>-7.6875</td><td>19</td><td>http://en.wikipedia.org/wiki/Ain-Diab_Circuit</td></tr><tr><td>65</td><td>pescara</td><td>Pescara Circuit</td><td>Pescara</td><td>Italy</td><td>42.475</td><td>14.1508</td><td>129</td><td>http://en.wikipedia.org/wiki/Pescara_Circuit</td></tr><tr><td>66</td><td>bremgarten</td><td>Circuit Bremgarten</td><td>Bern</td><td>Switzerland</td><td>46.9589</td><td>7.40194</td><td>551</td><td>http://en.wikipedia.org/wiki/Circuit_Bremgarten</td></tr><tr><td>67</td><td>pedralbes</td><td>Circuit de Pedralbes</td><td>Barcelona</td><td>Spain</td><td>41.3903</td><td>2.11667</td><td>85</td><td>http://en.wikipedia.org/wiki/Pedralbes_Circuit</td></tr><tr><td>68</td><td>buddh</td><td>Buddh International Circuit</td><td>Uttar Pradesh</td><td>India</td><td>28.3487</td><td>77.5331</td><td>194</td><td>http://en.wikipedia.org/wiki/Buddh_International_Circuit</td></tr><tr><td>69</td><td>americas</td><td>Circuit of the Americas</td><td>Austin</td><td>USA</td><td>30.1328</td><td>-97.6411</td><td>161</td><td>http://en.wikipedia.org/wiki/Circuit_of_the_Americas</td></tr><tr><td>70</td><td>red_bull_ring</td><td>Red Bull Ring</td><td>Spielberg</td><td>Austria</td><td>47.2197</td><td>14.7647</td><td>678</td><td>http://en.wikipedia.org/wiki/Red_Bull_Ring</td></tr><tr><td>71</td><td>sochi</td><td>Sochi Autodrom</td><td>Sochi</td><td>Russia</td><td>43.4057</td><td>39.9578</td><td>2</td><td>http://en.wikipedia.org/wiki/Sochi_Autodrom</td></tr><tr><td>73</td><td>baku</td><td>Baku City Circuit</td><td>Baku</td><td>Azerbaijan</td><td>40.3725</td><td>49.8533</td><td>-7</td><td>http://en.wikipedia.org/wiki/Baku_City_Circuit</td></tr><tr><td>75</td><td>portimao</td><td>Autódromo Internacional do Algarve</td><td>Portimão</td><td>Portugal</td><td>37.227</td><td>-8.6267</td><td>108</td><td>http://en.wikipedia.org/wiki/Algarve_International_Circuit</td></tr><tr><td>76</td><td>mugello</td><td>Autodromo Internazionale del Mugello</td><td>Mugello</td><td>Italy</td><td>43.9975</td><td>11.3719</td><td>255</td><td>http://en.wikipedia.org/wiki/Mugello_Circuit</td></tr><tr><td>77</td><td>jeddah</td><td>Jeddah Corniche Circuit</td><td>Jeddah</td><td>Saudi Arabia</td><td>21.6319</td><td>39.1044</td><td>15</td><td>http://en.wikipedia.org/wiki/Jeddah_Street_Circuit</td></tr><tr><td>78</td><td>losail</td><td>Losail International Circuit</td><td>Al Daayen</td><td>Qatar</td><td>25.49</td><td>51.4542</td><td>12</td><td>http://en.wikipedia.org/wiki/Losail_International_Circuit</td></tr><tr><td>79</td><td>miami</td><td>Miami International Autodrome</td><td>Miami</td><td>USA</td><td>25.9581</td><td>-80.2389</td><td>0</td><td>http://en.wikipedia.org/wiki/Miami_International_Autodrome</td></tr></tbody></table></div>"
      ]
     },
     "metadata": {
      "application/vnd.databricks.v1+output": {
       "addedWidgets": {},
       "aggData": [],
       "aggError": "",
       "aggOverflow": false,
       "aggSchema": [],
       "aggSeriesLimitReached": false,
       "aggType": "",
       "arguments": {},
       "columnCustomDisplayInfos": {},
       "data": [
        [
         1,
         "albert_park",
         "Albert Park Grand Prix Circuit",
         "Melbourne",
         "Australia",
         -37.8497,
         144.968,
         10,
         "http://en.wikipedia.org/wiki/Melbourne_Grand_Prix_Circuit"
        ],
        [
         2,
         "sepang",
         "Sepang International Circuit",
         "Kuala Lumpur",
         "Malaysia",
         2.76083,
         101.738,
         18,
         "http://en.wikipedia.org/wiki/Sepang_International_Circuit"
        ],
        [
         3,
         "bahrain",
         "Bahrain International Circuit",
         "Sakhir",
         "Bahrain",
         26.0325,
         50.5106,
         7,
         "http://en.wikipedia.org/wiki/Bahrain_International_Circuit"
        ],
        [
         4,
         "catalunya",
         "Circuit de Barcelona-Catalunya",
         "Montmeló",
         "Spain",
         41.57,
         2.26111,
         109,
         "http://en.wikipedia.org/wiki/Circuit_de_Barcelona-Catalunya"
        ],
        [
         5,
         "istanbul",
         "Istanbul Park",
         "Istanbul",
         "Turkey",
         40.9517,
         29.405,
         130,
         "http://en.wikipedia.org/wiki/Istanbul_Park"
        ],
        [
         6,
         "monaco",
         "Circuit de Monaco",
         "Monte-Carlo",
         "Monaco",
         43.7347,
         7.42056,
         7,
         "http://en.wikipedia.org/wiki/Circuit_de_Monaco"
        ],
        [
         7,
         "villeneuve",
         "Circuit Gilles Villeneuve",
         "Montreal",
         "Canada",
         45.5,
         -73.5228,
         13,
         "http://en.wikipedia.org/wiki/Circuit_Gilles_Villeneuve"
        ],
        [
         8,
         "magny_cours",
         "Circuit de Nevers Magny-Cours",
         "Magny Cours",
         "France",
         46.8642,
         3.16361,
         228,
         "http://en.wikipedia.org/wiki/Circuit_de_Nevers_Magny-Cours"
        ],
        [
         9,
         "silverstone",
         "Silverstone Circuit",
         "Silverstone",
         "UK",
         52.0786,
         -1.01694,
         153,
         "http://en.wikipedia.org/wiki/Silverstone_Circuit"
        ],
        [
         10,
         "hockenheimring",
         "Hockenheimring",
         "Hockenheim",
         "Germany",
         49.3278,
         8.56583,
         103,
         "http://en.wikipedia.org/wiki/Hockenheimring"
        ],
        [
         11,
         "hungaroring",
         "Hungaroring",
         "Budapest",
         "Hungary",
         47.5789,
         19.2486,
         264,
         "http://en.wikipedia.org/wiki/Hungaroring"
        ],
        [
         12,
         "valencia",
         "Valencia Street Circuit",
         "Valencia",
         "Spain",
         39.4589,
         -0.331667,
         4,
         "http://en.wikipedia.org/wiki/Valencia_Street_Circuit"
        ],
        [
         13,
         "spa",
         "Circuit de Spa-Francorchamps",
         "Spa",
         "Belgium",
         50.4372,
         5.97139,
         401,
         "http://en.wikipedia.org/wiki/Circuit_de_Spa-Francorchamps"
        ],
        [
         14,
         "monza",
         "Autodromo Nazionale di Monza",
         "Monza",
         "Italy",
         45.6156,
         9.28111,
         162,
         "http://en.wikipedia.org/wiki/Autodromo_Nazionale_Monza"
        ],
        [
         15,
         "marina_bay",
         "Marina Bay Street Circuit",
         "Marina Bay",
         "Singapore",
         1.2914,
         103.864,
         18,
         "http://en.wikipedia.org/wiki/Marina_Bay_Street_Circuit"
        ],
        [
         16,
         "fuji",
         "Fuji Speedway",
         "Oyama",
         "Japan",
         35.3717,
         138.927,
         583,
         "http://en.wikipedia.org/wiki/Fuji_Speedway"
        ],
        [
         17,
         "shanghai",
         "Shanghai International Circuit",
         "Shanghai",
         "China",
         31.3389,
         121.22,
         5,
         "http://en.wikipedia.org/wiki/Shanghai_International_Circuit"
        ],
        [
         18,
         "interlagos",
         "Autódromo José Carlos Pace",
         "São Paulo",
         "Brazil",
         -23.7036,
         -46.6997,
         785,
         "http://en.wikipedia.org/wiki/Aut%C3%B3dromo_Jos%C3%A9_Carlos_Pace"
        ],
        [
         19,
         "indianapolis",
         "Indianapolis Motor Speedway",
         "Indianapolis",
         "USA",
         39.795,
         -86.2347,
         223,
         "http://en.wikipedia.org/wiki/Indianapolis_Motor_Speedway"
        ],
        [
         20,
         "nurburgring",
         "Nürburgring",
         "Nürburg",
         "Germany",
         50.3356,
         6.9475,
         578,
         "http://en.wikipedia.org/wiki/N%C3%BCrburgring"
        ],
        [
         21,
         "imola",
         "Autodromo Enzo e Dino Ferrari",
         "Imola",
         "Italy",
         44.3439,
         11.7167,
         37,
         "http://en.wikipedia.org/wiki/Autodromo_Enzo_e_Dino_Ferrari"
        ],
        [
         22,
         "suzuka",
         "Suzuka Circuit",
         "Suzuka",
         "Japan",
         34.8431,
         136.541,
         45,
         "http://en.wikipedia.org/wiki/Suzuka_Circuit"
        ],
        [
         80,
         "vegas",
         "Las Vegas Strip Street Circuit",
         "Las Vegas",
         "United States",
         36.1147,
         -115.173,
         642,
         "https://en.wikipedia.org/wiki/Las_Vegas_Grand_Prix#Circuit"
        ],
        [
         24,
         "yas_marina",
         "Yas Marina Circuit",
         "Abu Dhabi",
         "UAE",
         24.4672,
         54.6031,
         3,
         "http://en.wikipedia.org/wiki/Yas_Marina_Circuit"
        ],
        [
         25,
         "galvez",
         "Autódromo Juan y Oscar Gálvez",
         "Buenos Aires",
         "Argentina",
         -34.6943,
         -58.4593,
         8,
         "http://en.wikipedia.org/wiki/Aut%C3%B3dromo_Oscar_Alfredo_G%C3%A1lvez"
        ],
        [
         26,
         "jerez",
         "Circuito de Jerez",
         "Jerez de la Frontera",
         "Spain",
         36.7083,
         -6.03417,
         37,
         "http://en.wikipedia.org/wiki/Circuito_Permanente_de_Jerez"
        ],
        [
         27,
         "estoril",
         "Autódromo do Estoril",
         "Estoril",
         "Portugal",
         38.7506,
         -9.39417,
         130,
         "http://en.wikipedia.org/wiki/Aut%C3%B3dromo_do_Estoril"
        ],
        [
         28,
         "okayama",
         "Okayama International Circuit",
         "Okayama",
         "Japan",
         34.915,
         134.221,
         266,
         "http://en.wikipedia.org/wiki/TI_Circuit"
        ],
        [
         29,
         "adelaide",
         "Adelaide Street Circuit",
         "Adelaide",
         "Australia",
         -34.9272,
         138.617,
         58,
         "http://en.wikipedia.org/wiki/Adelaide_Street_Circuit"
        ],
        [
         30,
         "kyalami",
         "Kyalami",
         "Midrand",
         "South Africa",
         -25.9894,
         28.0767,
         1460,
         "http://en.wikipedia.org/wiki/Kyalami"
        ],
        [
         31,
         "donington",
         "Donington Park",
         "Castle Donington",
         "UK",
         52.8306,
         -1.37528,
         88,
         "http://en.wikipedia.org/wiki/Donington_Park"
        ],
        [
         32,
         "rodriguez",
         "Autódromo Hermanos Rodríguez",
         "Mexico City",
         "Mexico",
         19.4042,
         -99.0907,
         2227,
         "http://en.wikipedia.org/wiki/Aut%C3%B3dromo_Hermanos_Rodr%C3%ADguez"
        ],
        [
         33,
         "phoenix",
         "Phoenix street circuit",
         "Phoenix",
         "USA",
         33.4479,
         -112.075,
         345,
         "http://en.wikipedia.org/wiki/Phoenix_street_circuit"
        ],
        [
         34,
         "ricard",
         "Circuit Paul Ricard",
         "Le Castellet",
         "France",
         43.2506,
         5.79167,
         432,
         "http://en.wikipedia.org/wiki/Paul_Ricard_Circuit"
        ],
        [
         35,
         "yeongam",
         "Korean International Circuit",
         "Yeongam County",
         "Korea",
         34.7333,
         126.417,
         0,
         "http://en.wikipedia.org/wiki/Korean_International_Circuit"
        ],
        [
         36,
         "jacarepagua",
         "Autódromo Internacional Nelson Piquet",
         "Rio de Janeiro",
         "Brazil",
         -22.9756,
         -43.395,
         1126,
         "http://en.wikipedia.org/wiki/Aut%C3%B3dromo_Internacional_Nelson_Piquet"
        ],
        [
         37,
         "detroit",
         "Detroit Street Circuit",
         "Detroit",
         "USA",
         42.3298,
         -83.0401,
         177,
         "http://en.wikipedia.org/wiki/Detroit_street_circuit"
        ],
        [
         38,
         "brands_hatch",
         "Brands Hatch",
         "Kent",
         "UK",
         51.3569,
         0.263056,
         145,
         "http://en.wikipedia.org/wiki/Brands_Hatch"
        ],
        [
         39,
         "zandvoort",
         "Circuit Park Zandvoort",
         "Zandvoort",
         "Netherlands",
         52.3888,
         4.54092,
         6,
         "http://en.wikipedia.org/wiki/Circuit_Zandvoort"
        ],
        [
         40,
         "zolder",
         "Zolder",
         "Heusden-Zolder",
         "Belgium",
         50.9894,
         5.25694,
         36,
         "http://en.wikipedia.org/wiki/Zolder"
        ],
        [
         41,
         "dijon",
         "Dijon-Prenois",
         "Dijon",
         "France",
         47.3625,
         4.89913,
         484,
         "http://en.wikipedia.org/wiki/Dijon-Prenois"
        ],
        [
         42,
         "dallas",
         "Fair Park",
         "Dallas",
         "USA",
         32.7774,
         -96.7587,
         139,
         "http://en.wikipedia.org/wiki/Fair_Park"
        ],
        [
         43,
         "long_beach",
         "Long Beach",
         "California",
         "USA",
         33.7651,
         -118.189,
         12,
         "http://en.wikipedia.org/wiki/Long_Beach,_California"
        ],
        [
         44,
         "las_vegas",
         "Las Vegas Street Circuit",
         "Nevada",
         "USA",
         36.1162,
         -115.174,
         639,
         "http://en.wikipedia.org/wiki/Las_Vegas_Street_Circuit"
        ],
        [
         45,
         "jarama",
         "Jarama",
         "Madrid",
         "Spain",
         40.6171,
         -3.58558,
         609,
         "http://en.wikipedia.org/wiki/Circuito_Permanente_Del_Jarama"
        ],
        [
         46,
         "watkins_glen",
         "Watkins Glen",
         "New York State",
         "USA",
         42.3369,
         -76.9272,
         485,
         "http://en.wikipedia.org/wiki/Watkins_Glen_International"
        ],
        [
         47,
         "anderstorp",
         "Scandinavian Raceway",
         "Anderstorp",
         "Sweden",
         57.2653,
         13.6042,
         153,
         "http://en.wikipedia.org/wiki/Scandinavian_Raceway"
        ],
        [
         48,
         "mosport",
         "Mosport International Raceway",
         "Ontario",
         "Canada",
         44.0481,
         -78.6756,
         332,
         "http://en.wikipedia.org/wiki/Mosport"
        ],
        [
         49,
         "montjuic",
         "Montjuïc",
         "Barcelona",
         "Spain",
         41.3664,
         2.15167,
         79,
         "http://en.wikipedia.org/wiki/Montju%C3%AFc_circuit"
        ],
        [
         50,
         "nivelles",
         "Nivelles-Baulers",
         "Brussels",
         "Belgium",
         50.6211,
         4.32694,
         139,
         "http://en.wikipedia.org/wiki/Nivelles-Baulers"
        ],
        [
         51,
         "charade",
         "Charade Circuit",
         "Clermont-Ferrand",
         "France",
         45.7472,
         3.03889,
         790,
         "http://en.wikipedia.org/wiki/Charade_Circuit"
        ],
        [
         52,
         "tremblant",
         "Circuit Mont-Tremblant",
         "Quebec",
         "Canada",
         46.1877,
         -74.6099,
         214,
         "http://en.wikipedia.org/wiki/Circuit_Mont-Tremblant"
        ],
        [
         53,
         "essarts",
         "Rouen-Les-Essarts",
         "Rouen",
         "France",
         49.3306,
         1.00458,
         81,
         "http://en.wikipedia.org/wiki/Rouen-Les-Essarts"
        ],
        [
         54,
         "lemans",
         "Le Mans",
         "Le Mans",
         "France",
         47.95,
         0.224231,
         67,
         "http://en.wikipedia.org/wiki/Circuit_de_la_Sarthe#Bugatti_Circuit"
        ],
        [
         55,
         "reims",
         "Reims-Gueux",
         "Reims",
         "France",
         49.2542,
         3.93083,
         88,
         "http://en.wikipedia.org/wiki/Reims-Gueux"
        ],
        [
         56,
         "george",
         "Prince George Circuit",
         "Eastern Cape Province",
         "South Africa",
         -33.0486,
         27.8736,
         15,
         "http://en.wikipedia.org/wiki/Prince_George_Circuit"
        ],
        [
         57,
         "zeltweg",
         "Zeltweg",
         "Styria",
         "Austria",
         47.2039,
         14.7478,
         676,
         "http://en.wikipedia.org/wiki/Zeltweg_Airfield"
        ],
        [
         58,
         "aintree",
         "Aintree",
         "Liverpool",
         "UK",
         53.4769,
         -2.94056,
         20,
         "http://en.wikipedia.org/wiki/Aintree_Motor_Racing_Circuit"
        ],
        [
         59,
         "boavista",
         "Circuito da Boavista",
         "Oporto",
         "Portugal",
         41.1705,
         -8.67325,
         28,
         "http://en.wikipedia.org/wiki/Circuito_da_Boavista"
        ],
        [
         60,
         "riverside",
         "Riverside International Raceway",
         "California",
         "USA",
         33.937,
         -117.273,
         470,
         "http://en.wikipedia.org/wiki/Riverside_International_Raceway"
        ],
        [
         61,
         "avus",
         "AVUS",
         "Berlin",
         "Germany",
         52.4806,
         13.2514,
         53,
         "http://en.wikipedia.org/wiki/AVUS"
        ],
        [
         62,
         "monsanto",
         "Monsanto Park Circuit",
         "Lisbon",
         "Portugal",
         38.7197,
         -9.20306,
         158,
         "http://en.wikipedia.org/wiki/Monsanto_Park_Circuit"
        ],
        [
         63,
         "sebring",
         "Sebring International Raceway",
         "Florida",
         "USA",
         27.4547,
         -81.3483,
         18,
         "http://en.wikipedia.org/wiki/Sebring_Raceway"
        ],
        [
         64,
         "ain-diab",
         "Ain Diab",
         "Casablanca",
         "Morocco",
         33.5786,
         -7.6875,
         19,
         "http://en.wikipedia.org/wiki/Ain-Diab_Circuit"
        ],
        [
         65,
         "pescara",
         "Pescara Circuit",
         "Pescara",
         "Italy",
         42.475,
         14.1508,
         129,
         "http://en.wikipedia.org/wiki/Pescara_Circuit"
        ],
        [
         66,
         "bremgarten",
         "Circuit Bremgarten",
         "Bern",
         "Switzerland",
         46.9589,
         7.40194,
         551,
         "http://en.wikipedia.org/wiki/Circuit_Bremgarten"
        ],
        [
         67,
         "pedralbes",
         "Circuit de Pedralbes",
         "Barcelona",
         "Spain",
         41.3903,
         2.11667,
         85,
         "http://en.wikipedia.org/wiki/Pedralbes_Circuit"
        ],
        [
         68,
         "buddh",
         "Buddh International Circuit",
         "Uttar Pradesh",
         "India",
         28.3487,
         77.5331,
         194,
         "http://en.wikipedia.org/wiki/Buddh_International_Circuit"
        ],
        [
         69,
         "americas",
         "Circuit of the Americas",
         "Austin",
         "USA",
         30.1328,
         -97.6411,
         161,
         "http://en.wikipedia.org/wiki/Circuit_of_the_Americas"
        ],
        [
         70,
         "red_bull_ring",
         "Red Bull Ring",
         "Spielberg",
         "Austria",
         47.2197,
         14.7647,
         678,
         "http://en.wikipedia.org/wiki/Red_Bull_Ring"
        ],
        [
         71,
         "sochi",
         "Sochi Autodrom",
         "Sochi",
         "Russia",
         43.4057,
         39.9578,
         2,
         "http://en.wikipedia.org/wiki/Sochi_Autodrom"
        ],
        [
         73,
         "baku",
         "Baku City Circuit",
         "Baku",
         "Azerbaijan",
         40.3725,
         49.8533,
         -7,
         "http://en.wikipedia.org/wiki/Baku_City_Circuit"
        ],
        [
         75,
         "portimao",
         "Autódromo Internacional do Algarve",
         "Portimão",
         "Portugal",
         37.227,
         -8.6267,
         108,
         "http://en.wikipedia.org/wiki/Algarve_International_Circuit"
        ],
        [
         76,
         "mugello",
         "Autodromo Internazionale del Mugello",
         "Mugello",
         "Italy",
         43.9975,
         11.3719,
         255,
         "http://en.wikipedia.org/wiki/Mugello_Circuit"
        ],
        [
         77,
         "jeddah",
         "Jeddah Corniche Circuit",
         "Jeddah",
         "Saudi Arabia",
         21.6319,
         39.1044,
         15,
         "http://en.wikipedia.org/wiki/Jeddah_Street_Circuit"
        ],
        [
         78,
         "losail",
         "Losail International Circuit",
         "Al Daayen",
         "Qatar",
         25.49,
         51.4542,
         12,
         "http://en.wikipedia.org/wiki/Losail_International_Circuit"
        ],
        [
         79,
         "miami",
         "Miami International Autodrome",
         "Miami",
         "USA",
         25.9581,
         -80.2389,
         0,
         "http://en.wikipedia.org/wiki/Miami_International_Autodrome"
        ]
       ],
       "datasetInfos": [],
       "dbfsResultPath": null,
       "isJsonSchema": true,
       "metadata": {},
       "overflow": false,
       "plotOptions": {
        "customPlotOptions": {},
        "displayType": "table",
        "pivotAggregation": null,
        "pivotColumns": null,
        "xColumns": null,
        "yColumns": null
       },
       "removedWidgets": [],
       "schema": [
        {
         "metadata": "{}",
         "name": "circuitId",
         "type": "\"integer\""
        },
        {
         "metadata": "{}",
         "name": "circuitRef",
         "type": "\"string\""
        },
        {
         "metadata": "{}",
         "name": "name",
         "type": "\"string\""
        },
        {
         "metadata": "{}",
         "name": "location",
         "type": "\"string\""
        },
        {
         "metadata": "{}",
         "name": "country",
         "type": "\"string\""
        },
        {
         "metadata": "{}",
         "name": "lat",
         "type": "\"double\""
        },
        {
         "metadata": "{}",
         "name": "lng",
         "type": "\"double\""
        },
        {
         "metadata": "{}",
         "name": "alt",
         "type": "\"integer\""
        },
        {
         "metadata": "{}",
         "name": "url",
         "type": "\"string\""
        }
       ],
       "type": "table"
      }
     },
     "output_type": "display_data"
    }
   ],
   "source": [
    "circuits_df.display()"
   ]
  },
  {
   "cell_type": "code",
   "execution_count": 0,
   "metadata": {
    "application/vnd.databricks.v1+cell": {
     "cellMetadata": {
      "byteLimit": 2048000,
      "rowLimit": 10000
     },
     "inputWidgets": {},
     "nuid": "824a7047-56e7-455d-b084-49b5bda77413",
     "showTitle": false,
     "tableResultSettingsMap": {},
     "title": ""
    }
   },
   "outputs": [],
   "source": [
    "from pyspark.sql.functions import md5, concat_ws, current_date, current_timestamp, date_format"
   ]
  },
  {
   "cell_type": "code",
   "execution_count": 0,
   "metadata": {
    "application/vnd.databricks.v1+cell": {
     "cellMetadata": {
      "byteLimit": 2048000,
      "rowLimit": 10000
     },
     "inputWidgets": {},
     "nuid": "1bd6b972-6d9b-4b57-bb7a-1089cba57bcb",
     "showTitle": false,
     "tableResultSettingsMap": {},
     "title": ""
    }
   },
   "outputs": [],
   "source": [
    "circuits_df = circuits_df.withColumn(\"row_hash\", md5(concat_ws(\",\", *circuits_df.columns)))"
   ]
  },
  {
   "cell_type": "code",
   "execution_count": 0,
   "metadata": {
    "application/vnd.databricks.v1+cell": {
     "cellMetadata": {
      "byteLimit": 2048000,
      "rowLimit": 10000
     },
     "inputWidgets": {},
     "nuid": "9584f653-75e1-454a-939b-b172d4a7b27f",
     "showTitle": false,
     "tableResultSettingsMap": {},
     "title": ""
    }
   },
   "outputs": [
    {
     "output_type": "display_data",
     "data": {
      "text/html": [
       "<style scoped>\n",
       "  .table-result-container {\n",
       "    max-height: 300px;\n",
       "    overflow: auto;\n",
       "  }\n",
       "  table, th, td {\n",
       "    border: 1px solid black;\n",
       "    border-collapse: collapse;\n",
       "  }\n",
       "  th, td {\n",
       "    padding: 5px;\n",
       "  }\n",
       "  th {\n",
       "    text-align: left;\n",
       "  }\n",
       "</style><div class='table-result-container'><table class='table-result'><thead style='background-color: white'><tr><th>circuitId</th><th>circuitRef</th><th>name</th><th>location</th><th>country</th><th>lat</th><th>lng</th><th>alt</th><th>url</th><th>row_hash</th></tr></thead><tbody><tr><td>1</td><td>albert_park</td><td>Albert Park Grand Prix Circuit</td><td>Melbourne</td><td>Australia</td><td>-37.8497</td><td>144.968</td><td>10</td><td>http://en.wikipedia.org/wiki/Melbourne_Grand_Prix_Circuit</td><td>42accd3e068caf65a5547a954ef52226</td></tr><tr><td>2</td><td>sepang</td><td>Sepang International Circuit</td><td>Kuala Lumpur</td><td>Malaysia</td><td>2.76083</td><td>101.738</td><td>18</td><td>http://en.wikipedia.org/wiki/Sepang_International_Circuit</td><td>2acc394fae1ae319d478236bfdccca01</td></tr><tr><td>3</td><td>bahrain</td><td>Bahrain International Circuit</td><td>Sakhir</td><td>Bahrain</td><td>26.0325</td><td>50.5106</td><td>7</td><td>http://en.wikipedia.org/wiki/Bahrain_International_Circuit</td><td>3f1dd817e7f3c2503ce36a3a9ba510b0</td></tr><tr><td>4</td><td>catalunya</td><td>Circuit de Barcelona-Catalunya</td><td>Montmeló</td><td>Spain</td><td>41.57</td><td>2.26111</td><td>109</td><td>http://en.wikipedia.org/wiki/Circuit_de_Barcelona-Catalunya</td><td>8ed34a020f06ef6677dc8468746fb860</td></tr><tr><td>5</td><td>istanbul</td><td>Istanbul Park</td><td>Istanbul</td><td>Turkey</td><td>40.9517</td><td>29.405</td><td>130</td><td>http://en.wikipedia.org/wiki/Istanbul_Park</td><td>e491132e3986410b477a853108c4dac5</td></tr><tr><td>6</td><td>monaco</td><td>Circuit de Monaco</td><td>Monte-Carlo</td><td>Monaco</td><td>43.7347</td><td>7.42056</td><td>7</td><td>http://en.wikipedia.org/wiki/Circuit_de_Monaco</td><td>d0672bda417d325845d11a4761d20221</td></tr><tr><td>7</td><td>villeneuve</td><td>Circuit Gilles Villeneuve</td><td>Montreal</td><td>Canada</td><td>45.5</td><td>-73.5228</td><td>13</td><td>http://en.wikipedia.org/wiki/Circuit_Gilles_Villeneuve</td><td>435de89246c950086d50d31fd73dc7ac</td></tr><tr><td>8</td><td>magny_cours</td><td>Circuit de Nevers Magny-Cours</td><td>Magny Cours</td><td>France</td><td>46.8642</td><td>3.16361</td><td>228</td><td>http://en.wikipedia.org/wiki/Circuit_de_Nevers_Magny-Cours</td><td>a62e79a85ade136120086a5395098a4a</td></tr><tr><td>9</td><td>silverstone</td><td>Silverstone Circuit</td><td>Silverstone</td><td>UK</td><td>52.0786</td><td>-1.01694</td><td>153</td><td>http://en.wikipedia.org/wiki/Silverstone_Circuit</td><td>f26ddea029f84fa0b30d3557edfa9a8a</td></tr><tr><td>10</td><td>hockenheimring</td><td>Hockenheimring</td><td>Hockenheim</td><td>Germany</td><td>49.3278</td><td>8.56583</td><td>103</td><td>http://en.wikipedia.org/wiki/Hockenheimring</td><td>63f3237bd34ff71d52a7897376bd593e</td></tr><tr><td>11</td><td>hungaroring</td><td>Hungaroring</td><td>Budapest</td><td>Hungary</td><td>47.5789</td><td>19.2486</td><td>264</td><td>http://en.wikipedia.org/wiki/Hungaroring</td><td>3cce5cfb8fdd3fb680c1ce1def0e2495</td></tr><tr><td>12</td><td>valencia</td><td>Valencia Street Circuit</td><td>Valencia</td><td>Spain</td><td>39.4589</td><td>-0.331667</td><td>4</td><td>http://en.wikipedia.org/wiki/Valencia_Street_Circuit</td><td>3b9e4e75a1affed1eb39eb92e8fea717</td></tr><tr><td>13</td><td>spa</td><td>Circuit de Spa-Francorchamps</td><td>Spa</td><td>Belgium</td><td>50.4372</td><td>5.97139</td><td>401</td><td>http://en.wikipedia.org/wiki/Circuit_de_Spa-Francorchamps</td><td>95f8c71735d42cfbb7a1b4b2ce129913</td></tr><tr><td>14</td><td>monza</td><td>Autodromo Nazionale di Monza</td><td>Monza</td><td>Italy</td><td>45.6156</td><td>9.28111</td><td>162</td><td>http://en.wikipedia.org/wiki/Autodromo_Nazionale_Monza</td><td>6a8408ee66697a4eb5ed4122889c16ba</td></tr><tr><td>15</td><td>marina_bay</td><td>Marina Bay Street Circuit</td><td>Marina Bay</td><td>Singapore</td><td>1.2914</td><td>103.864</td><td>18</td><td>http://en.wikipedia.org/wiki/Marina_Bay_Street_Circuit</td><td>e24d3d396169c6d4cd2b0265531bde9f</td></tr><tr><td>16</td><td>fuji</td><td>Fuji Speedway</td><td>Oyama</td><td>Japan</td><td>35.3717</td><td>138.927</td><td>583</td><td>http://en.wikipedia.org/wiki/Fuji_Speedway</td><td>b45eae92ee6866a44edcbb5712108bda</td></tr><tr><td>17</td><td>shanghai</td><td>Shanghai International Circuit</td><td>Shanghai</td><td>China</td><td>31.3389</td><td>121.22</td><td>5</td><td>http://en.wikipedia.org/wiki/Shanghai_International_Circuit</td><td>1ff27947c3fe33e51644542db639b007</td></tr><tr><td>18</td><td>interlagos</td><td>Autódromo José Carlos Pace</td><td>São Paulo</td><td>Brazil</td><td>-23.7036</td><td>-46.6997</td><td>785</td><td>http://en.wikipedia.org/wiki/Aut%C3%B3dromo_Jos%C3%A9_Carlos_Pace</td><td>46d73ba16cb00ba670ad9469e6ab5a9e</td></tr><tr><td>19</td><td>indianapolis</td><td>Indianapolis Motor Speedway</td><td>Indianapolis</td><td>USA</td><td>39.795</td><td>-86.2347</td><td>223</td><td>http://en.wikipedia.org/wiki/Indianapolis_Motor_Speedway</td><td>6817a76c5a3a1edc02b92bfce37d15c0</td></tr><tr><td>20</td><td>nurburgring</td><td>Nürburgring</td><td>Nürburg</td><td>Germany</td><td>50.3356</td><td>6.9475</td><td>578</td><td>http://en.wikipedia.org/wiki/N%C3%BCrburgring</td><td>e1a1f99f4ede27df1857a10e39c70990</td></tr><tr><td>21</td><td>imola</td><td>Autodromo Enzo e Dino Ferrari</td><td>Imola</td><td>Italy</td><td>44.3439</td><td>11.7167</td><td>37</td><td>http://en.wikipedia.org/wiki/Autodromo_Enzo_e_Dino_Ferrari</td><td>c745202d49e31893ddc875abd8aeffa2</td></tr><tr><td>22</td><td>suzuka</td><td>Suzuka Circuit</td><td>Suzuka</td><td>Japan</td><td>34.8431</td><td>136.541</td><td>45</td><td>http://en.wikipedia.org/wiki/Suzuka_Circuit</td><td>2ebdf8f7ae242778fe75a5ccc5fa2982</td></tr><tr><td>80</td><td>vegas</td><td>Las Vegas Strip Street Circuit</td><td>Las Vegas</td><td>United States</td><td>36.1147</td><td>-115.173</td><td>642</td><td>https://en.wikipedia.org/wiki/Las_Vegas_Grand_Prix#Circuit</td><td>4af874e16e0e08dd3d36b32a20503cf7</td></tr><tr><td>24</td><td>yas_marina</td><td>Yas Marina Circuit</td><td>Abu Dhabi</td><td>UAE</td><td>24.4672</td><td>54.6031</td><td>3</td><td>http://en.wikipedia.org/wiki/Yas_Marina_Circuit</td><td>f2d0680e6f1c9a34e3acd477ba47b3c4</td></tr><tr><td>25</td><td>galvez</td><td>Autódromo Juan y Oscar Gálvez</td><td>Buenos Aires</td><td>Argentina</td><td>-34.6943</td><td>-58.4593</td><td>8</td><td>http://en.wikipedia.org/wiki/Aut%C3%B3dromo_Oscar_Alfredo_G%C3%A1lvez</td><td>ab6a579cc8a0390b732604553e545278</td></tr><tr><td>26</td><td>jerez</td><td>Circuito de Jerez</td><td>Jerez de la Frontera</td><td>Spain</td><td>36.7083</td><td>-6.03417</td><td>37</td><td>http://en.wikipedia.org/wiki/Circuito_Permanente_de_Jerez</td><td>6a83e13eeabf76cb23e84aab37b84996</td></tr><tr><td>27</td><td>estoril</td><td>Autódromo do Estoril</td><td>Estoril</td><td>Portugal</td><td>38.7506</td><td>-9.39417</td><td>130</td><td>http://en.wikipedia.org/wiki/Aut%C3%B3dromo_do_Estoril</td><td>f3de2d7500ad020cef52e073e782ab6b</td></tr><tr><td>28</td><td>okayama</td><td>Okayama International Circuit</td><td>Okayama</td><td>Japan</td><td>34.915</td><td>134.221</td><td>266</td><td>http://en.wikipedia.org/wiki/TI_Circuit</td><td>a01eeda0a4fb0b526fe2ce7f0522135b</td></tr><tr><td>29</td><td>adelaide</td><td>Adelaide Street Circuit</td><td>Adelaide</td><td>Australia</td><td>-34.9272</td><td>138.617</td><td>58</td><td>http://en.wikipedia.org/wiki/Adelaide_Street_Circuit</td><td>9b22bd3d54b596f5ff75c1e708879683</td></tr><tr><td>30</td><td>kyalami</td><td>Kyalami</td><td>Midrand</td><td>South Africa</td><td>-25.9894</td><td>28.0767</td><td>1460</td><td>http://en.wikipedia.org/wiki/Kyalami</td><td>239013dc73d7755ff4b3444e6404b4fe</td></tr><tr><td>31</td><td>donington</td><td>Donington Park</td><td>Castle Donington</td><td>UK</td><td>52.8306</td><td>-1.37528</td><td>88</td><td>http://en.wikipedia.org/wiki/Donington_Park</td><td>362708dd2360b9a598dd7649f9bb0fe1</td></tr><tr><td>32</td><td>rodriguez</td><td>Autódromo Hermanos Rodríguez</td><td>Mexico City</td><td>Mexico</td><td>19.4042</td><td>-99.0907</td><td>2227</td><td>http://en.wikipedia.org/wiki/Aut%C3%B3dromo_Hermanos_Rodr%C3%ADguez</td><td>42f1943e813dec1ff411748ed31a7e9a</td></tr><tr><td>33</td><td>phoenix</td><td>Phoenix street circuit</td><td>Phoenix</td><td>USA</td><td>33.4479</td><td>-112.075</td><td>345</td><td>http://en.wikipedia.org/wiki/Phoenix_street_circuit</td><td>663eb7371c0eefdc3394d11e070f7c01</td></tr><tr><td>34</td><td>ricard</td><td>Circuit Paul Ricard</td><td>Le Castellet</td><td>France</td><td>43.2506</td><td>5.79167</td><td>432</td><td>http://en.wikipedia.org/wiki/Paul_Ricard_Circuit</td><td>ac85550e8e3becc9be51f1d99c041ca3</td></tr><tr><td>35</td><td>yeongam</td><td>Korean International Circuit</td><td>Yeongam County</td><td>Korea</td><td>34.7333</td><td>126.417</td><td>0</td><td>http://en.wikipedia.org/wiki/Korean_International_Circuit</td><td>7c04004cc732958d7621c9ab4421ae86</td></tr><tr><td>36</td><td>jacarepagua</td><td>Autódromo Internacional Nelson Piquet</td><td>Rio de Janeiro</td><td>Brazil</td><td>-22.9756</td><td>-43.395</td><td>1126</td><td>http://en.wikipedia.org/wiki/Aut%C3%B3dromo_Internacional_Nelson_Piquet</td><td>62db36e419cda2f7b2bba8ddeb6c6ba9</td></tr><tr><td>37</td><td>detroit</td><td>Detroit Street Circuit</td><td>Detroit</td><td>USA</td><td>42.3298</td><td>-83.0401</td><td>177</td><td>http://en.wikipedia.org/wiki/Detroit_street_circuit</td><td>ea4372338f7d15af0a5b56a7a1564c6e</td></tr><tr><td>38</td><td>brands_hatch</td><td>Brands Hatch</td><td>Kent</td><td>UK</td><td>51.3569</td><td>0.263056</td><td>145</td><td>http://en.wikipedia.org/wiki/Brands_Hatch</td><td>c060c525a2066118b6afb5600ab2e7c6</td></tr><tr><td>39</td><td>zandvoort</td><td>Circuit Park Zandvoort</td><td>Zandvoort</td><td>Netherlands</td><td>52.3888</td><td>4.54092</td><td>6</td><td>http://en.wikipedia.org/wiki/Circuit_Zandvoort</td><td>f894360ef36685712021db84cb6ed147</td></tr><tr><td>40</td><td>zolder</td><td>Zolder</td><td>Heusden-Zolder</td><td>Belgium</td><td>50.9894</td><td>5.25694</td><td>36</td><td>http://en.wikipedia.org/wiki/Zolder</td><td>6758c4922873e29ff56cd7af280494df</td></tr><tr><td>41</td><td>dijon</td><td>Dijon-Prenois</td><td>Dijon</td><td>France</td><td>47.3625</td><td>4.89913</td><td>484</td><td>http://en.wikipedia.org/wiki/Dijon-Prenois</td><td>82c3656f80387b228874e9a6d6766b7e</td></tr><tr><td>42</td><td>dallas</td><td>Fair Park</td><td>Dallas</td><td>USA</td><td>32.7774</td><td>-96.7587</td><td>139</td><td>http://en.wikipedia.org/wiki/Fair_Park</td><td>e682c628077a0f517481289ef0f91316</td></tr><tr><td>43</td><td>long_beach</td><td>Long Beach</td><td>California</td><td>USA</td><td>33.7651</td><td>-118.189</td><td>12</td><td>http://en.wikipedia.org/wiki/Long_Beach,_California</td><td>b2de1243d6fcec57554eabb90fa2c1ef</td></tr><tr><td>44</td><td>las_vegas</td><td>Las Vegas Street Circuit</td><td>Nevada</td><td>USA</td><td>36.1162</td><td>-115.174</td><td>639</td><td>http://en.wikipedia.org/wiki/Las_Vegas_Street_Circuit</td><td>a510948d4199c40bc6fba70416f68074</td></tr><tr><td>45</td><td>jarama</td><td>Jarama</td><td>Madrid</td><td>Spain</td><td>40.6171</td><td>-3.58558</td><td>609</td><td>http://en.wikipedia.org/wiki/Circuito_Permanente_Del_Jarama</td><td>46112c4640fcd28e69771c436c5e7c90</td></tr><tr><td>46</td><td>watkins_glen</td><td>Watkins Glen</td><td>New York State</td><td>USA</td><td>42.3369</td><td>-76.9272</td><td>485</td><td>http://en.wikipedia.org/wiki/Watkins_Glen_International</td><td>fcfd790e688e054e127f0e5c9b053693</td></tr><tr><td>47</td><td>anderstorp</td><td>Scandinavian Raceway</td><td>Anderstorp</td><td>Sweden</td><td>57.2653</td><td>13.6042</td><td>153</td><td>http://en.wikipedia.org/wiki/Scandinavian_Raceway</td><td>ab590e4dc5ddb17fd25841543b366d9a</td></tr><tr><td>48</td><td>mosport</td><td>Mosport International Raceway</td><td>Ontario</td><td>Canada</td><td>44.0481</td><td>-78.6756</td><td>332</td><td>http://en.wikipedia.org/wiki/Mosport</td><td>0e858bf96c075f033c071c86775c1f75</td></tr><tr><td>49</td><td>montjuic</td><td>Montjuïc</td><td>Barcelona</td><td>Spain</td><td>41.3664</td><td>2.15167</td><td>79</td><td>http://en.wikipedia.org/wiki/Montju%C3%AFc_circuit</td><td>2d6b61ebeddc63b1ecc6860253b9e916</td></tr><tr><td>50</td><td>nivelles</td><td>Nivelles-Baulers</td><td>Brussels</td><td>Belgium</td><td>50.6211</td><td>4.32694</td><td>139</td><td>http://en.wikipedia.org/wiki/Nivelles-Baulers</td><td>fe16decaec8e8626c3a7687452e74a83</td></tr><tr><td>51</td><td>charade</td><td>Charade Circuit</td><td>Clermont-Ferrand</td><td>France</td><td>45.7472</td><td>3.03889</td><td>790</td><td>http://en.wikipedia.org/wiki/Charade_Circuit</td><td>66a1efd48b778a78206eb3c6baa422b4</td></tr><tr><td>52</td><td>tremblant</td><td>Circuit Mont-Tremblant</td><td>Quebec</td><td>Canada</td><td>46.1877</td><td>-74.6099</td><td>214</td><td>http://en.wikipedia.org/wiki/Circuit_Mont-Tremblant</td><td>b1b0e9ed0e312f3393c844dc910fa61c</td></tr><tr><td>53</td><td>essarts</td><td>Rouen-Les-Essarts</td><td>Rouen</td><td>France</td><td>49.3306</td><td>1.00458</td><td>81</td><td>http://en.wikipedia.org/wiki/Rouen-Les-Essarts</td><td>741605f72808919c21945e9b50a6c69f</td></tr><tr><td>54</td><td>lemans</td><td>Le Mans</td><td>Le Mans</td><td>France</td><td>47.95</td><td>0.224231</td><td>67</td><td>http://en.wikipedia.org/wiki/Circuit_de_la_Sarthe#Bugatti_Circuit</td><td>88be9dd9524f2b1e9c978674e91d6e61</td></tr><tr><td>55</td><td>reims</td><td>Reims-Gueux</td><td>Reims</td><td>France</td><td>49.2542</td><td>3.93083</td><td>88</td><td>http://en.wikipedia.org/wiki/Reims-Gueux</td><td>835a5a7f95fd0abc43a8968ceeaf2f1e</td></tr><tr><td>56</td><td>george</td><td>Prince George Circuit</td><td>Eastern Cape Province</td><td>South Africa</td><td>-33.0486</td><td>27.8736</td><td>15</td><td>http://en.wikipedia.org/wiki/Prince_George_Circuit</td><td>ee093c933619d026c958c07976c6f31f</td></tr><tr><td>57</td><td>zeltweg</td><td>Zeltweg</td><td>Styria</td><td>Austria</td><td>47.2039</td><td>14.7478</td><td>676</td><td>http://en.wikipedia.org/wiki/Zeltweg_Airfield</td><td>cef70a7ad688027dcfd84dbf16f8152e</td></tr><tr><td>58</td><td>aintree</td><td>Aintree</td><td>Liverpool</td><td>UK</td><td>53.4769</td><td>-2.94056</td><td>20</td><td>http://en.wikipedia.org/wiki/Aintree_Motor_Racing_Circuit</td><td>ea9c301c0987280cfba6c9b8a824b1a4</td></tr><tr><td>59</td><td>boavista</td><td>Circuito da Boavista</td><td>Oporto</td><td>Portugal</td><td>41.1705</td><td>-8.67325</td><td>28</td><td>http://en.wikipedia.org/wiki/Circuito_da_Boavista</td><td>6e717aa512f0b4c1977a42cab05be16e</td></tr><tr><td>60</td><td>riverside</td><td>Riverside International Raceway</td><td>California</td><td>USA</td><td>33.937</td><td>-117.273</td><td>470</td><td>http://en.wikipedia.org/wiki/Riverside_International_Raceway</td><td>94e502d5a164b0b49eac3b6df28176a6</td></tr><tr><td>61</td><td>avus</td><td>AVUS</td><td>Berlin</td><td>Germany</td><td>52.4806</td><td>13.2514</td><td>53</td><td>http://en.wikipedia.org/wiki/AVUS</td><td>4a364f325a512d44b43850d561826503</td></tr><tr><td>62</td><td>monsanto</td><td>Monsanto Park Circuit</td><td>Lisbon</td><td>Portugal</td><td>38.7197</td><td>-9.20306</td><td>158</td><td>http://en.wikipedia.org/wiki/Monsanto_Park_Circuit</td><td>4b53906b1190f0dafbbf65693217acdd</td></tr><tr><td>63</td><td>sebring</td><td>Sebring International Raceway</td><td>Florida</td><td>USA</td><td>27.4547</td><td>-81.3483</td><td>18</td><td>http://en.wikipedia.org/wiki/Sebring_Raceway</td><td>b1dcd3ba77670238a405c7384e38f684</td></tr><tr><td>64</td><td>ain-diab</td><td>Ain Diab</td><td>Casablanca</td><td>Morocco</td><td>33.5786</td><td>-7.6875</td><td>19</td><td>http://en.wikipedia.org/wiki/Ain-Diab_Circuit</td><td>02c29c5df18aad9f7556d30ff32213b6</td></tr><tr><td>65</td><td>pescara</td><td>Pescara Circuit</td><td>Pescara</td><td>Italy</td><td>42.475</td><td>14.1508</td><td>129</td><td>http://en.wikipedia.org/wiki/Pescara_Circuit</td><td>57d1182f801f3abb6d31af949c370d14</td></tr><tr><td>66</td><td>bremgarten</td><td>Circuit Bremgarten</td><td>Bern</td><td>Switzerland</td><td>46.9589</td><td>7.40194</td><td>551</td><td>http://en.wikipedia.org/wiki/Circuit_Bremgarten</td><td>278bfc82f36d7229f398a7dea6f6fc03</td></tr><tr><td>67</td><td>pedralbes</td><td>Circuit de Pedralbes</td><td>Barcelona</td><td>Spain</td><td>41.3903</td><td>2.11667</td><td>85</td><td>http://en.wikipedia.org/wiki/Pedralbes_Circuit</td><td>9f7233b294e5ffe58f829d0a20118611</td></tr><tr><td>68</td><td>buddh</td><td>Buddh International Circuit</td><td>Uttar Pradesh</td><td>India</td><td>28.3487</td><td>77.5331</td><td>194</td><td>http://en.wikipedia.org/wiki/Buddh_International_Circuit</td><td>db3dae36f6cd6b585ca4996ebb9b7285</td></tr><tr><td>69</td><td>americas</td><td>Circuit of the Americas</td><td>Austin</td><td>USA</td><td>30.1328</td><td>-97.6411</td><td>161</td><td>http://en.wikipedia.org/wiki/Circuit_of_the_Americas</td><td>0daa961aaa295d60d47913e2551317d5</td></tr><tr><td>70</td><td>red_bull_ring</td><td>Red Bull Ring</td><td>Spielberg</td><td>Austria</td><td>47.2197</td><td>14.7647</td><td>678</td><td>http://en.wikipedia.org/wiki/Red_Bull_Ring</td><td>9c5c46d4232462f1e1d929ba0e7f5f5c</td></tr><tr><td>71</td><td>sochi</td><td>Sochi Autodrom</td><td>Sochi</td><td>Russia</td><td>43.4057</td><td>39.9578</td><td>2</td><td>http://en.wikipedia.org/wiki/Sochi_Autodrom</td><td>93799be29f0981f63c37dabf5b97991d</td></tr><tr><td>73</td><td>baku</td><td>Baku City Circuit</td><td>Baku</td><td>Azerbaijan</td><td>40.3725</td><td>49.8533</td><td>-7</td><td>http://en.wikipedia.org/wiki/Baku_City_Circuit</td><td>d75f5d6b17d6adff69632e1d227689c0</td></tr><tr><td>75</td><td>portimao</td><td>Autódromo Internacional do Algarve</td><td>Portimão</td><td>Portugal</td><td>37.227</td><td>-8.6267</td><td>108</td><td>http://en.wikipedia.org/wiki/Algarve_International_Circuit</td><td>feeec64a1799e1ed6bcc3880e354c6e9</td></tr><tr><td>76</td><td>mugello</td><td>Autodromo Internazionale del Mugello</td><td>Mugello</td><td>Italy</td><td>43.9975</td><td>11.3719</td><td>255</td><td>http://en.wikipedia.org/wiki/Mugello_Circuit</td><td>2fb5b9de6e267f01a3e7bf8844e04457</td></tr><tr><td>77</td><td>jeddah</td><td>Jeddah Corniche Circuit</td><td>Jeddah</td><td>Saudi Arabia</td><td>21.6319</td><td>39.1044</td><td>15</td><td>http://en.wikipedia.org/wiki/Jeddah_Street_Circuit</td><td>30c72091d216bc0293a1568b6dbd7533</td></tr><tr><td>78</td><td>losail</td><td>Losail International Circuit</td><td>Al Daayen</td><td>Qatar</td><td>25.49</td><td>51.4542</td><td>12</td><td>http://en.wikipedia.org/wiki/Losail_International_Circuit</td><td>548910dbaf79618c8f264c23ce348661</td></tr><tr><td>79</td><td>miami</td><td>Miami International Autodrome</td><td>Miami</td><td>USA</td><td>25.9581</td><td>-80.2389</td><td>0</td><td>http://en.wikipedia.org/wiki/Miami_International_Autodrome</td><td>d971132b709cfec20d1eea4620c9a4d7</td></tr></tbody></table></div>"
      ]
     },
     "metadata": {
      "application/vnd.databricks.v1+output": {
       "addedWidgets": {},
       "aggData": [],
       "aggError": "",
       "aggOverflow": false,
       "aggSchema": [],
       "aggSeriesLimitReached": false,
       "aggType": "",
       "arguments": {},
       "columnCustomDisplayInfos": {},
       "data": [
        [
         1,
         "albert_park",
         "Albert Park Grand Prix Circuit",
         "Melbourne",
         "Australia",
         -37.8497,
         144.968,
         10,
         "http://en.wikipedia.org/wiki/Melbourne_Grand_Prix_Circuit",
         "42accd3e068caf65a5547a954ef52226"
        ],
        [
         2,
         "sepang",
         "Sepang International Circuit",
         "Kuala Lumpur",
         "Malaysia",
         2.76083,
         101.738,
         18,
         "http://en.wikipedia.org/wiki/Sepang_International_Circuit",
         "2acc394fae1ae319d478236bfdccca01"
        ],
        [
         3,
         "bahrain",
         "Bahrain International Circuit",
         "Sakhir",
         "Bahrain",
         26.0325,
         50.5106,
         7,
         "http://en.wikipedia.org/wiki/Bahrain_International_Circuit",
         "3f1dd817e7f3c2503ce36a3a9ba510b0"
        ],
        [
         4,
         "catalunya",
         "Circuit de Barcelona-Catalunya",
         "Montmeló",
         "Spain",
         41.57,
         2.26111,
         109,
         "http://en.wikipedia.org/wiki/Circuit_de_Barcelona-Catalunya",
         "8ed34a020f06ef6677dc8468746fb860"
        ],
        [
         5,
         "istanbul",
         "Istanbul Park",
         "Istanbul",
         "Turkey",
         40.9517,
         29.405,
         130,
         "http://en.wikipedia.org/wiki/Istanbul_Park",
         "e491132e3986410b477a853108c4dac5"
        ],
        [
         6,
         "monaco",
         "Circuit de Monaco",
         "Monte-Carlo",
         "Monaco",
         43.7347,
         7.42056,
         7,
         "http://en.wikipedia.org/wiki/Circuit_de_Monaco",
         "d0672bda417d325845d11a4761d20221"
        ],
        [
         7,
         "villeneuve",
         "Circuit Gilles Villeneuve",
         "Montreal",
         "Canada",
         45.5,
         -73.5228,
         13,
         "http://en.wikipedia.org/wiki/Circuit_Gilles_Villeneuve",
         "435de89246c950086d50d31fd73dc7ac"
        ],
        [
         8,
         "magny_cours",
         "Circuit de Nevers Magny-Cours",
         "Magny Cours",
         "France",
         46.8642,
         3.16361,
         228,
         "http://en.wikipedia.org/wiki/Circuit_de_Nevers_Magny-Cours",
         "a62e79a85ade136120086a5395098a4a"
        ],
        [
         9,
         "silverstone",
         "Silverstone Circuit",
         "Silverstone",
         "UK",
         52.0786,
         -1.01694,
         153,
         "http://en.wikipedia.org/wiki/Silverstone_Circuit",
         "f26ddea029f84fa0b30d3557edfa9a8a"
        ],
        [
         10,
         "hockenheimring",
         "Hockenheimring",
         "Hockenheim",
         "Germany",
         49.3278,
         8.56583,
         103,
         "http://en.wikipedia.org/wiki/Hockenheimring",
         "63f3237bd34ff71d52a7897376bd593e"
        ],
        [
         11,
         "hungaroring",
         "Hungaroring",
         "Budapest",
         "Hungary",
         47.5789,
         19.2486,
         264,
         "http://en.wikipedia.org/wiki/Hungaroring",
         "3cce5cfb8fdd3fb680c1ce1def0e2495"
        ],
        [
         12,
         "valencia",
         "Valencia Street Circuit",
         "Valencia",
         "Spain",
         39.4589,
         -0.331667,
         4,
         "http://en.wikipedia.org/wiki/Valencia_Street_Circuit",
         "3b9e4e75a1affed1eb39eb92e8fea717"
        ],
        [
         13,
         "spa",
         "Circuit de Spa-Francorchamps",
         "Spa",
         "Belgium",
         50.4372,
         5.97139,
         401,
         "http://en.wikipedia.org/wiki/Circuit_de_Spa-Francorchamps",
         "95f8c71735d42cfbb7a1b4b2ce129913"
        ],
        [
         14,
         "monza",
         "Autodromo Nazionale di Monza",
         "Monza",
         "Italy",
         45.6156,
         9.28111,
         162,
         "http://en.wikipedia.org/wiki/Autodromo_Nazionale_Monza",
         "6a8408ee66697a4eb5ed4122889c16ba"
        ],
        [
         15,
         "marina_bay",
         "Marina Bay Street Circuit",
         "Marina Bay",
         "Singapore",
         1.2914,
         103.864,
         18,
         "http://en.wikipedia.org/wiki/Marina_Bay_Street_Circuit",
         "e24d3d396169c6d4cd2b0265531bde9f"
        ],
        [
         16,
         "fuji",
         "Fuji Speedway",
         "Oyama",
         "Japan",
         35.3717,
         138.927,
         583,
         "http://en.wikipedia.org/wiki/Fuji_Speedway",
         "b45eae92ee6866a44edcbb5712108bda"
        ],
        [
         17,
         "shanghai",
         "Shanghai International Circuit",
         "Shanghai",
         "China",
         31.3389,
         121.22,
         5,
         "http://en.wikipedia.org/wiki/Shanghai_International_Circuit",
         "1ff27947c3fe33e51644542db639b007"
        ],
        [
         18,
         "interlagos",
         "Autódromo José Carlos Pace",
         "São Paulo",
         "Brazil",
         -23.7036,
         -46.6997,
         785,
         "http://en.wikipedia.org/wiki/Aut%C3%B3dromo_Jos%C3%A9_Carlos_Pace",
         "46d73ba16cb00ba670ad9469e6ab5a9e"
        ],
        [
         19,
         "indianapolis",
         "Indianapolis Motor Speedway",
         "Indianapolis",
         "USA",
         39.795,
         -86.2347,
         223,
         "http://en.wikipedia.org/wiki/Indianapolis_Motor_Speedway",
         "6817a76c5a3a1edc02b92bfce37d15c0"
        ],
        [
         20,
         "nurburgring",
         "Nürburgring",
         "Nürburg",
         "Germany",
         50.3356,
         6.9475,
         578,
         "http://en.wikipedia.org/wiki/N%C3%BCrburgring",
         "e1a1f99f4ede27df1857a10e39c70990"
        ],
        [
         21,
         "imola",
         "Autodromo Enzo e Dino Ferrari",
         "Imola",
         "Italy",
         44.3439,
         11.7167,
         37,
         "http://en.wikipedia.org/wiki/Autodromo_Enzo_e_Dino_Ferrari",
         "c745202d49e31893ddc875abd8aeffa2"
        ],
        [
         22,
         "suzuka",
         "Suzuka Circuit",
         "Suzuka",
         "Japan",
         34.8431,
         136.541,
         45,
         "http://en.wikipedia.org/wiki/Suzuka_Circuit",
         "2ebdf8f7ae242778fe75a5ccc5fa2982"
        ],
        [
         80,
         "vegas",
         "Las Vegas Strip Street Circuit",
         "Las Vegas",
         "United States",
         36.1147,
         -115.173,
         642,
         "https://en.wikipedia.org/wiki/Las_Vegas_Grand_Prix#Circuit",
         "4af874e16e0e08dd3d36b32a20503cf7"
        ],
        [
         24,
         "yas_marina",
         "Yas Marina Circuit",
         "Abu Dhabi",
         "UAE",
         24.4672,
         54.6031,
         3,
         "http://en.wikipedia.org/wiki/Yas_Marina_Circuit",
         "f2d0680e6f1c9a34e3acd477ba47b3c4"
        ],
        [
         25,
         "galvez",
         "Autódromo Juan y Oscar Gálvez",
         "Buenos Aires",
         "Argentina",
         -34.6943,
         -58.4593,
         8,
         "http://en.wikipedia.org/wiki/Aut%C3%B3dromo_Oscar_Alfredo_G%C3%A1lvez",
         "ab6a579cc8a0390b732604553e545278"
        ],
        [
         26,
         "jerez",
         "Circuito de Jerez",
         "Jerez de la Frontera",
         "Spain",
         36.7083,
         -6.03417,
         37,
         "http://en.wikipedia.org/wiki/Circuito_Permanente_de_Jerez",
         "6a83e13eeabf76cb23e84aab37b84996"
        ],
        [
         27,
         "estoril",
         "Autódromo do Estoril",
         "Estoril",
         "Portugal",
         38.7506,
         -9.39417,
         130,
         "http://en.wikipedia.org/wiki/Aut%C3%B3dromo_do_Estoril",
         "f3de2d7500ad020cef52e073e782ab6b"
        ],
        [
         28,
         "okayama",
         "Okayama International Circuit",
         "Okayama",
         "Japan",
         34.915,
         134.221,
         266,
         "http://en.wikipedia.org/wiki/TI_Circuit",
         "a01eeda0a4fb0b526fe2ce7f0522135b"
        ],
        [
         29,
         "adelaide",
         "Adelaide Street Circuit",
         "Adelaide",
         "Australia",
         -34.9272,
         138.617,
         58,
         "http://en.wikipedia.org/wiki/Adelaide_Street_Circuit",
         "9b22bd3d54b596f5ff75c1e708879683"
        ],
        [
         30,
         "kyalami",
         "Kyalami",
         "Midrand",
         "South Africa",
         -25.9894,
         28.0767,
         1460,
         "http://en.wikipedia.org/wiki/Kyalami",
         "239013dc73d7755ff4b3444e6404b4fe"
        ],
        [
         31,
         "donington",
         "Donington Park",
         "Castle Donington",
         "UK",
         52.8306,
         -1.37528,
         88,
         "http://en.wikipedia.org/wiki/Donington_Park",
         "362708dd2360b9a598dd7649f9bb0fe1"
        ],
        [
         32,
         "rodriguez",
         "Autódromo Hermanos Rodríguez",
         "Mexico City",
         "Mexico",
         19.4042,
         -99.0907,
         2227,
         "http://en.wikipedia.org/wiki/Aut%C3%B3dromo_Hermanos_Rodr%C3%ADguez",
         "42f1943e813dec1ff411748ed31a7e9a"
        ],
        [
         33,
         "phoenix",
         "Phoenix street circuit",
         "Phoenix",
         "USA",
         33.4479,
         -112.075,
         345,
         "http://en.wikipedia.org/wiki/Phoenix_street_circuit",
         "663eb7371c0eefdc3394d11e070f7c01"
        ],
        [
         34,
         "ricard",
         "Circuit Paul Ricard",
         "Le Castellet",
         "France",
         43.2506,
         5.79167,
         432,
         "http://en.wikipedia.org/wiki/Paul_Ricard_Circuit",
         "ac85550e8e3becc9be51f1d99c041ca3"
        ],
        [
         35,
         "yeongam",
         "Korean International Circuit",
         "Yeongam County",
         "Korea",
         34.7333,
         126.417,
         0,
         "http://en.wikipedia.org/wiki/Korean_International_Circuit",
         "7c04004cc732958d7621c9ab4421ae86"
        ],
        [
         36,
         "jacarepagua",
         "Autódromo Internacional Nelson Piquet",
         "Rio de Janeiro",
         "Brazil",
         -22.9756,
         -43.395,
         1126,
         "http://en.wikipedia.org/wiki/Aut%C3%B3dromo_Internacional_Nelson_Piquet",
         "62db36e419cda2f7b2bba8ddeb6c6ba9"
        ],
        [
         37,
         "detroit",
         "Detroit Street Circuit",
         "Detroit",
         "USA",
         42.3298,
         -83.0401,
         177,
         "http://en.wikipedia.org/wiki/Detroit_street_circuit",
         "ea4372338f7d15af0a5b56a7a1564c6e"
        ],
        [
         38,
         "brands_hatch",
         "Brands Hatch",
         "Kent",
         "UK",
         51.3569,
         0.263056,
         145,
         "http://en.wikipedia.org/wiki/Brands_Hatch",
         "c060c525a2066118b6afb5600ab2e7c6"
        ],
        [
         39,
         "zandvoort",
         "Circuit Park Zandvoort",
         "Zandvoort",
         "Netherlands",
         52.3888,
         4.54092,
         6,
         "http://en.wikipedia.org/wiki/Circuit_Zandvoort",
         "f894360ef36685712021db84cb6ed147"
        ],
        [
         40,
         "zolder",
         "Zolder",
         "Heusden-Zolder",
         "Belgium",
         50.9894,
         5.25694,
         36,
         "http://en.wikipedia.org/wiki/Zolder",
         "6758c4922873e29ff56cd7af280494df"
        ],
        [
         41,
         "dijon",
         "Dijon-Prenois",
         "Dijon",
         "France",
         47.3625,
         4.89913,
         484,
         "http://en.wikipedia.org/wiki/Dijon-Prenois",
         "82c3656f80387b228874e9a6d6766b7e"
        ],
        [
         42,
         "dallas",
         "Fair Park",
         "Dallas",
         "USA",
         32.7774,
         -96.7587,
         139,
         "http://en.wikipedia.org/wiki/Fair_Park",
         "e682c628077a0f517481289ef0f91316"
        ],
        [
         43,
         "long_beach",
         "Long Beach",
         "California",
         "USA",
         33.7651,
         -118.189,
         12,
         "http://en.wikipedia.org/wiki/Long_Beach,_California",
         "b2de1243d6fcec57554eabb90fa2c1ef"
        ],
        [
         44,
         "las_vegas",
         "Las Vegas Street Circuit",
         "Nevada",
         "USA",
         36.1162,
         -115.174,
         639,
         "http://en.wikipedia.org/wiki/Las_Vegas_Street_Circuit",
         "a510948d4199c40bc6fba70416f68074"
        ],
        [
         45,
         "jarama",
         "Jarama",
         "Madrid",
         "Spain",
         40.6171,
         -3.58558,
         609,
         "http://en.wikipedia.org/wiki/Circuito_Permanente_Del_Jarama",
         "46112c4640fcd28e69771c436c5e7c90"
        ],
        [
         46,
         "watkins_glen",
         "Watkins Glen",
         "New York State",
         "USA",
         42.3369,
         -76.9272,
         485,
         "http://en.wikipedia.org/wiki/Watkins_Glen_International",
         "fcfd790e688e054e127f0e5c9b053693"
        ],
        [
         47,
         "anderstorp",
         "Scandinavian Raceway",
         "Anderstorp",
         "Sweden",
         57.2653,
         13.6042,
         153,
         "http://en.wikipedia.org/wiki/Scandinavian_Raceway",
         "ab590e4dc5ddb17fd25841543b366d9a"
        ],
        [
         48,
         "mosport",
         "Mosport International Raceway",
         "Ontario",
         "Canada",
         44.0481,
         -78.6756,
         332,
         "http://en.wikipedia.org/wiki/Mosport",
         "0e858bf96c075f033c071c86775c1f75"
        ],
        [
         49,
         "montjuic",
         "Montjuïc",
         "Barcelona",
         "Spain",
         41.3664,
         2.15167,
         79,
         "http://en.wikipedia.org/wiki/Montju%C3%AFc_circuit",
         "2d6b61ebeddc63b1ecc6860253b9e916"
        ],
        [
         50,
         "nivelles",
         "Nivelles-Baulers",
         "Brussels",
         "Belgium",
         50.6211,
         4.32694,
         139,
         "http://en.wikipedia.org/wiki/Nivelles-Baulers",
         "fe16decaec8e8626c3a7687452e74a83"
        ],
        [
         51,
         "charade",
         "Charade Circuit",
         "Clermont-Ferrand",
         "France",
         45.7472,
         3.03889,
         790,
         "http://en.wikipedia.org/wiki/Charade_Circuit",
         "66a1efd48b778a78206eb3c6baa422b4"
        ],
        [
         52,
         "tremblant",
         "Circuit Mont-Tremblant",
         "Quebec",
         "Canada",
         46.1877,
         -74.6099,
         214,
         "http://en.wikipedia.org/wiki/Circuit_Mont-Tremblant",
         "b1b0e9ed0e312f3393c844dc910fa61c"
        ],
        [
         53,
         "essarts",
         "Rouen-Les-Essarts",
         "Rouen",
         "France",
         49.3306,
         1.00458,
         81,
         "http://en.wikipedia.org/wiki/Rouen-Les-Essarts",
         "741605f72808919c21945e9b50a6c69f"
        ],
        [
         54,
         "lemans",
         "Le Mans",
         "Le Mans",
         "France",
         47.95,
         0.224231,
         67,
         "http://en.wikipedia.org/wiki/Circuit_de_la_Sarthe#Bugatti_Circuit",
         "88be9dd9524f2b1e9c978674e91d6e61"
        ],
        [
         55,
         "reims",
         "Reims-Gueux",
         "Reims",
         "France",
         49.2542,
         3.93083,
         88,
         "http://en.wikipedia.org/wiki/Reims-Gueux",
         "835a5a7f95fd0abc43a8968ceeaf2f1e"
        ],
        [
         56,
         "george",
         "Prince George Circuit",
         "Eastern Cape Province",
         "South Africa",
         -33.0486,
         27.8736,
         15,
         "http://en.wikipedia.org/wiki/Prince_George_Circuit",
         "ee093c933619d026c958c07976c6f31f"
        ],
        [
         57,
         "zeltweg",
         "Zeltweg",
         "Styria",
         "Austria",
         47.2039,
         14.7478,
         676,
         "http://en.wikipedia.org/wiki/Zeltweg_Airfield",
         "cef70a7ad688027dcfd84dbf16f8152e"
        ],
        [
         58,
         "aintree",
         "Aintree",
         "Liverpool",
         "UK",
         53.4769,
         -2.94056,
         20,
         "http://en.wikipedia.org/wiki/Aintree_Motor_Racing_Circuit",
         "ea9c301c0987280cfba6c9b8a824b1a4"
        ],
        [
         59,
         "boavista",
         "Circuito da Boavista",
         "Oporto",
         "Portugal",
         41.1705,
         -8.67325,
         28,
         "http://en.wikipedia.org/wiki/Circuito_da_Boavista",
         "6e717aa512f0b4c1977a42cab05be16e"
        ],
        [
         60,
         "riverside",
         "Riverside International Raceway",
         "California",
         "USA",
         33.937,
         -117.273,
         470,
         "http://en.wikipedia.org/wiki/Riverside_International_Raceway",
         "94e502d5a164b0b49eac3b6df28176a6"
        ],
        [
         61,
         "avus",
         "AVUS",
         "Berlin",
         "Germany",
         52.4806,
         13.2514,
         53,
         "http://en.wikipedia.org/wiki/AVUS",
         "4a364f325a512d44b43850d561826503"
        ],
        [
         62,
         "monsanto",
         "Monsanto Park Circuit",
         "Lisbon",
         "Portugal",
         38.7197,
         -9.20306,
         158,
         "http://en.wikipedia.org/wiki/Monsanto_Park_Circuit",
         "4b53906b1190f0dafbbf65693217acdd"
        ],
        [
         63,
         "sebring",
         "Sebring International Raceway",
         "Florida",
         "USA",
         27.4547,
         -81.3483,
         18,
         "http://en.wikipedia.org/wiki/Sebring_Raceway",
         "b1dcd3ba77670238a405c7384e38f684"
        ],
        [
         64,
         "ain-diab",
         "Ain Diab",
         "Casablanca",
         "Morocco",
         33.5786,
         -7.6875,
         19,
         "http://en.wikipedia.org/wiki/Ain-Diab_Circuit",
         "02c29c5df18aad9f7556d30ff32213b6"
        ],
        [
         65,
         "pescara",
         "Pescara Circuit",
         "Pescara",
         "Italy",
         42.475,
         14.1508,
         129,
         "http://en.wikipedia.org/wiki/Pescara_Circuit",
         "57d1182f801f3abb6d31af949c370d14"
        ],
        [
         66,
         "bremgarten",
         "Circuit Bremgarten",
         "Bern",
         "Switzerland",
         46.9589,
         7.40194,
         551,
         "http://en.wikipedia.org/wiki/Circuit_Bremgarten",
         "278bfc82f36d7229f398a7dea6f6fc03"
        ],
        [
         67,
         "pedralbes",
         "Circuit de Pedralbes",
         "Barcelona",
         "Spain",
         41.3903,
         2.11667,
         85,
         "http://en.wikipedia.org/wiki/Pedralbes_Circuit",
         "9f7233b294e5ffe58f829d0a20118611"
        ],
        [
         68,
         "buddh",
         "Buddh International Circuit",
         "Uttar Pradesh",
         "India",
         28.3487,
         77.5331,
         194,
         "http://en.wikipedia.org/wiki/Buddh_International_Circuit",
         "db3dae36f6cd6b585ca4996ebb9b7285"
        ],
        [
         69,
         "americas",
         "Circuit of the Americas",
         "Austin",
         "USA",
         30.1328,
         -97.6411,
         161,
         "http://en.wikipedia.org/wiki/Circuit_of_the_Americas",
         "0daa961aaa295d60d47913e2551317d5"
        ],
        [
         70,
         "red_bull_ring",
         "Red Bull Ring",
         "Spielberg",
         "Austria",
         47.2197,
         14.7647,
         678,
         "http://en.wikipedia.org/wiki/Red_Bull_Ring",
         "9c5c46d4232462f1e1d929ba0e7f5f5c"
        ],
        [
         71,
         "sochi",
         "Sochi Autodrom",
         "Sochi",
         "Russia",
         43.4057,
         39.9578,
         2,
         "http://en.wikipedia.org/wiki/Sochi_Autodrom",
         "93799be29f0981f63c37dabf5b97991d"
        ],
        [
         73,
         "baku",
         "Baku City Circuit",
         "Baku",
         "Azerbaijan",
         40.3725,
         49.8533,
         -7,
         "http://en.wikipedia.org/wiki/Baku_City_Circuit",
         "d75f5d6b17d6adff69632e1d227689c0"
        ],
        [
         75,
         "portimao",
         "Autódromo Internacional do Algarve",
         "Portimão",
         "Portugal",
         37.227,
         -8.6267,
         108,
         "http://en.wikipedia.org/wiki/Algarve_International_Circuit",
         "feeec64a1799e1ed6bcc3880e354c6e9"
        ],
        [
         76,
         "mugello",
         "Autodromo Internazionale del Mugello",
         "Mugello",
         "Italy",
         43.9975,
         11.3719,
         255,
         "http://en.wikipedia.org/wiki/Mugello_Circuit",
         "2fb5b9de6e267f01a3e7bf8844e04457"
        ],
        [
         77,
         "jeddah",
         "Jeddah Corniche Circuit",
         "Jeddah",
         "Saudi Arabia",
         21.6319,
         39.1044,
         15,
         "http://en.wikipedia.org/wiki/Jeddah_Street_Circuit",
         "30c72091d216bc0293a1568b6dbd7533"
        ],
        [
         78,
         "losail",
         "Losail International Circuit",
         "Al Daayen",
         "Qatar",
         25.49,
         51.4542,
         12,
         "http://en.wikipedia.org/wiki/Losail_International_Circuit",
         "548910dbaf79618c8f264c23ce348661"
        ],
        [
         79,
         "miami",
         "Miami International Autodrome",
         "Miami",
         "USA",
         25.9581,
         -80.2389,
         0,
         "http://en.wikipedia.org/wiki/Miami_International_Autodrome",
         "d971132b709cfec20d1eea4620c9a4d7"
        ]
       ],
       "datasetInfos": [],
       "dbfsResultPath": null,
       "isJsonSchema": true,
       "metadata": {},
       "overflow": false,
       "plotOptions": {
        "customPlotOptions": {},
        "displayType": "table",
        "pivotAggregation": null,
        "pivotColumns": null,
        "xColumns": null,
        "yColumns": null
       },
       "removedWidgets": [],
       "schema": [
        {
         "metadata": "{}",
         "name": "circuitId",
         "type": "\"integer\""
        },
        {
         "metadata": "{}",
         "name": "circuitRef",
         "type": "\"string\""
        },
        {
         "metadata": "{}",
         "name": "name",
         "type": "\"string\""
        },
        {
         "metadata": "{}",
         "name": "location",
         "type": "\"string\""
        },
        {
         "metadata": "{}",
         "name": "country",
         "type": "\"string\""
        },
        {
         "metadata": "{}",
         "name": "lat",
         "type": "\"double\""
        },
        {
         "metadata": "{}",
         "name": "lng",
         "type": "\"double\""
        },
        {
         "metadata": "{}",
         "name": "alt",
         "type": "\"integer\""
        },
        {
         "metadata": "{}",
         "name": "url",
         "type": "\"string\""
        },
        {
         "metadata": "{}",
         "name": "row_hash",
         "type": "\"string\""
        }
       ],
       "type": "table"
      }
     },
     "output_type": "display_data"
    }
   ],
   "source": [
    "circuits_df.display()"
   ]
  },
  {
   "cell_type": "code",
   "execution_count": 0,
   "metadata": {
    "application/vnd.databricks.v1+cell": {
     "cellMetadata": {
      "byteLimit": 2048000,
      "rowLimit": 10000
     },
     "inputWidgets": {},
     "nuid": "ba515500-a89b-4d41-8146-2f8839715f5a",
     "showTitle": false,
     "tableResultSettingsMap": {},
     "title": ""
    }
   },
   "outputs": [
    {
     "output_type": "stream",
     "name": "stdout",
     "output_type": "stream",
     "text": [
      "circuits_row_hash_df loading\nconstructor_results_row_hash_df loading\nconstructor_standings_row_hash_df loading\nconstructors_row_hash_df loading\ndriver_standings_row_hash_df loading\ndrivers_row_hash_df loading\nlap_times_row_hash_df loading\npit_stops_row_hash_df loading\nqualifying_row_hash_df loading\nraces_row_hash_df loading\nresults_row_hash_df loading\nseasons_row_hash_df loading\nsprint_results_row_hash_df loading\nstatus_row_hash_df loading\n"
     ]
    }
   ],
   "source": [
    "# TODO this for dev only remove it after the testing is done\n",
    "from pyspark.sql.types import StructType, StructField, StringType, TimestampType, DateType\n",
    "schema = 'f1/row_hash_data'\n",
    "\n",
    "table_schema = StructType([\n",
    "    StructField(\"row_hash\", StringType(), True),\n",
    "    StructField(\"sysdate\", DateType(), True),\n",
    "    StructField(\"current_timestamp\", StringType(), True)\n",
    "])\n",
    "\n",
    "# Dictionary to hold DataFrames\n",
    "dataframes = {}\n",
    "\n",
    "for table in tables_tuple:    \n",
    "    print(f\"{table}_row_hash_df loading\")\n",
    "    df = spark.createDataFrame([], table_schema)\n",
    "    df.write.format(\"delta\").mode(\"overwrite\")\\\n",
    "            .save(os.path.join(os.path.join(silver_container, schema), table+\"_row_hash\"))       \n",
    "\n",
    "    dataframes[table] = df\n",
    "\n",
    "# Create an empty DataFrame with the defined schema\n",
    "circuits_row_hash_df = dataframes[\"circuits\"]\n",
    "constructor_results_row_hash_df = dataframes[\"constructor_results\"]\n",
    "constructor_standings_row_hash_df = dataframes[\"constructor_standings\"]\n",
    "constructors_row_hash_df = dataframes[\"constructors\"]\n",
    "driver_standings_row_hash_df = dataframes[\"driver_standings\"]\n",
    "lap_times_row_hash_df = dataframes[\"lap_times\"]\n",
    "pit_stops_row_hash_df = dataframes[\"pit_stops\"]\n",
    "qualifying_row_hash_df = dataframes[\"qualifying\"]\n",
    "races_row_hash_df = dataframes[\"races\"]\n",
    "results_row_hash_df = dataframes[\"results\"]\n",
    "seasons_row_hash_df = dataframes[\"seasons\"]\n",
    "sprint_results_row_hash_df = dataframes[\"sprint_results\"]\n",
    "status_row_hash_df = dataframes[\"status\"]\n",
    "drivers_row_hash_df = dataframes[\"drivers\"]"
   ]
  },
  {
   "cell_type": "code",
   "execution_count": 0,
   "metadata": {
    "application/vnd.databricks.v1+cell": {
     "cellMetadata": {
      "byteLimit": 2048000,
      "rowLimit": 10000
     },
     "inputWidgets": {},
     "nuid": "d9834a97-de48-4065-8387-ad547bf0146e",
     "showTitle": false,
     "tableResultSettingsMap": {},
     "title": ""
    }
   },
   "outputs": [
    {
     "output_type": "stream",
     "name": "stdout",
     "output_type": "stream",
     "text": [
      "circuits_row_hash_df loading\nconstructor_results_row_hash_df loading\nconstructor_standings_row_hash_df loading\nconstructors_row_hash_df loading\ndriver_standings_row_hash_df loading\ndrivers_row_hash_df loading\nlap_times_row_hash_df loading\npit_stops_row_hash_df loading\nqualifying_row_hash_df loading\nraces_row_hash_df loading\nresults_row_hash_df loading\nseasons_row_hash_df loading\nsprint_results_row_hash_df loading\nstatus_row_hash_df loading\n"
     ]
    }
   ],
   "source": [
    "# loading hash data\n",
    "tables_tuple = (\n",
    "    \"circuits\", \"constructor_results\", \"constructor_standings\", \"constructors\", \"driver_standings\", \n",
    "    \"drivers\", \"lap_times\", \"pit_stops\", \"qualifying\", \"races\", \"results\", \"seasons\", \"sprint_results\",\n",
    "    \"status\")\n",
    "\n",
    "# Dictionary to hold DataFrames\n",
    "dataframes = {}\n",
    "\n",
    "for table in tables_tuple:    \n",
    "    print(f\"{table}_row_hash_df loading\")\n",
    "    df = spark.read.format('delta')\\\n",
    "        .load(os.path.join(os.path.join(silver_container, schema), table+\"_row_hash\"), \n",
    "              header=True, inferSchema=True)       \n",
    "\n",
    "    dataframes[table] = df\n",
    "\n",
    "\n",
    "circuits_row_hash_df = dataframes[\"circuits\"]\n",
    "constructor_results_row_hash_df = dataframes[\"constructor_results\"]\n",
    "constructor_standings_row_hash_df = dataframes[\"constructor_standings\"]\n",
    "constructors_row_hash_df = dataframes[\"constructors\"]\n",
    "driver_standings_row_hash_df = dataframes[\"driver_standings\"]\n",
    "lap_times_row_hash_df = dataframes[\"lap_times\"]\n",
    "pit_stops_row_hash_df = dataframes[\"pit_stops\"]\n",
    "qualifying_row_hash_df = dataframes[\"qualifying\"]\n",
    "races_row_hash_df = dataframes[\"races\"]\n",
    "results_row_hash_df = dataframes[\"results\"]\n",
    "seasons_row_hash_df = dataframes[\"seasons\"]\n",
    "sprint_results_row_hash_df = dataframes[\"sprint_results\"]\n",
    "status_row_hash_df = dataframes[\"status\"]\n",
    "drivers_row_hash_df = dataframes[\"drivers\"]"
   ]
  },
  {
   "cell_type": "code",
   "execution_count": 0,
   "metadata": {
    "application/vnd.databricks.v1+cell": {
     "cellMetadata": {
      "byteLimit": 2048000,
      "rowLimit": 10000
     },
     "inputWidgets": {},
     "nuid": "8515c45d-bbac-4e86-a918-d99e93718917",
     "showTitle": false,
     "tableResultSettingsMap": {},
     "title": ""
    }
   },
   "outputs": [],
   "source": [
    "from pyspark.sql.functions import col"
   ]
  },
  {
   "cell_type": "code",
   "execution_count": 0,
   "metadata": {
    "application/vnd.databricks.v1+cell": {
     "cellMetadata": {
      "byteLimit": 2048000,
      "rowLimit": 10000
     },
     "inputWidgets": {},
     "nuid": "7f35cba2-3953-41d2-851f-c206fb0ac95e",
     "showTitle": false,
     "tableResultSettingsMap": {},
     "title": ""
    }
   },
   "outputs": [
    {
     "output_type": "display_data",
     "data": {
      "text/html": [
       "<style scoped>\n",
       "  .table-result-container {\n",
       "    max-height: 300px;\n",
       "    overflow: auto;\n",
       "  }\n",
       "  table, th, td {\n",
       "    border: 1px solid black;\n",
       "    border-collapse: collapse;\n",
       "  }\n",
       "  th, td {\n",
       "    padding: 5px;\n",
       "  }\n",
       "  th {\n",
       "    text-align: left;\n",
       "  }\n",
       "</style><div class='table-result-container'><table class='table-result'><thead style='background-color: white'><tr><th>row_hash</th><th>sysdate</th><th>current_timestamp</th></tr></thead><tbody><tr><td>42accd3e068caf65a5547a954ef52226</td><td>2025-01-11</td><td>11:50:19</td></tr><tr><td>2acc394fae1ae319d478236bfdccca01</td><td>2025-01-11</td><td>11:50:19</td></tr><tr><td>3f1dd817e7f3c2503ce36a3a9ba510b0</td><td>2025-01-11</td><td>11:50:19</td></tr><tr><td>8ed34a020f06ef6677dc8468746fb860</td><td>2025-01-11</td><td>11:50:19</td></tr><tr><td>e491132e3986410b477a853108c4dac5</td><td>2025-01-11</td><td>11:50:19</td></tr><tr><td>d0672bda417d325845d11a4761d20221</td><td>2025-01-11</td><td>11:50:19</td></tr><tr><td>435de89246c950086d50d31fd73dc7ac</td><td>2025-01-11</td><td>11:50:19</td></tr><tr><td>a62e79a85ade136120086a5395098a4a</td><td>2025-01-11</td><td>11:50:19</td></tr><tr><td>f26ddea029f84fa0b30d3557edfa9a8a</td><td>2025-01-11</td><td>11:50:19</td></tr><tr><td>63f3237bd34ff71d52a7897376bd593e</td><td>2025-01-11</td><td>11:50:19</td></tr><tr><td>3cce5cfb8fdd3fb680c1ce1def0e2495</td><td>2025-01-11</td><td>11:50:19</td></tr><tr><td>3b9e4e75a1affed1eb39eb92e8fea717</td><td>2025-01-11</td><td>11:50:19</td></tr><tr><td>95f8c71735d42cfbb7a1b4b2ce129913</td><td>2025-01-11</td><td>11:50:19</td></tr><tr><td>6a8408ee66697a4eb5ed4122889c16ba</td><td>2025-01-11</td><td>11:50:19</td></tr><tr><td>e24d3d396169c6d4cd2b0265531bde9f</td><td>2025-01-11</td><td>11:50:19</td></tr><tr><td>b45eae92ee6866a44edcbb5712108bda</td><td>2025-01-11</td><td>11:50:19</td></tr><tr><td>1ff27947c3fe33e51644542db639b007</td><td>2025-01-11</td><td>11:50:19</td></tr><tr><td>46d73ba16cb00ba670ad9469e6ab5a9e</td><td>2025-01-11</td><td>11:50:19</td></tr><tr><td>6817a76c5a3a1edc02b92bfce37d15c0</td><td>2025-01-11</td><td>11:50:19</td></tr><tr><td>e1a1f99f4ede27df1857a10e39c70990</td><td>2025-01-11</td><td>11:50:19</td></tr><tr><td>c745202d49e31893ddc875abd8aeffa2</td><td>2025-01-11</td><td>11:50:19</td></tr><tr><td>2ebdf8f7ae242778fe75a5ccc5fa2982</td><td>2025-01-11</td><td>11:50:19</td></tr><tr><td>4af874e16e0e08dd3d36b32a20503cf7</td><td>2025-01-11</td><td>11:50:19</td></tr><tr><td>f2d0680e6f1c9a34e3acd477ba47b3c4</td><td>2025-01-11</td><td>11:50:19</td></tr><tr><td>ab6a579cc8a0390b732604553e545278</td><td>2025-01-11</td><td>11:50:19</td></tr><tr><td>6a83e13eeabf76cb23e84aab37b84996</td><td>2025-01-11</td><td>11:50:19</td></tr><tr><td>f3de2d7500ad020cef52e073e782ab6b</td><td>2025-01-11</td><td>11:50:19</td></tr><tr><td>a01eeda0a4fb0b526fe2ce7f0522135b</td><td>2025-01-11</td><td>11:50:19</td></tr><tr><td>9b22bd3d54b596f5ff75c1e708879683</td><td>2025-01-11</td><td>11:50:19</td></tr><tr><td>239013dc73d7755ff4b3444e6404b4fe</td><td>2025-01-11</td><td>11:50:19</td></tr><tr><td>362708dd2360b9a598dd7649f9bb0fe1</td><td>2025-01-11</td><td>11:50:19</td></tr><tr><td>42f1943e813dec1ff411748ed31a7e9a</td><td>2025-01-11</td><td>11:50:19</td></tr><tr><td>663eb7371c0eefdc3394d11e070f7c01</td><td>2025-01-11</td><td>11:50:19</td></tr><tr><td>ac85550e8e3becc9be51f1d99c041ca3</td><td>2025-01-11</td><td>11:50:19</td></tr><tr><td>7c04004cc732958d7621c9ab4421ae86</td><td>2025-01-11</td><td>11:50:19</td></tr><tr><td>62db36e419cda2f7b2bba8ddeb6c6ba9</td><td>2025-01-11</td><td>11:50:19</td></tr><tr><td>ea4372338f7d15af0a5b56a7a1564c6e</td><td>2025-01-11</td><td>11:50:19</td></tr><tr><td>c060c525a2066118b6afb5600ab2e7c6</td><td>2025-01-11</td><td>11:50:19</td></tr><tr><td>f894360ef36685712021db84cb6ed147</td><td>2025-01-11</td><td>11:50:19</td></tr><tr><td>6758c4922873e29ff56cd7af280494df</td><td>2025-01-11</td><td>11:50:19</td></tr><tr><td>82c3656f80387b228874e9a6d6766b7e</td><td>2025-01-11</td><td>11:50:19</td></tr><tr><td>e682c628077a0f517481289ef0f91316</td><td>2025-01-11</td><td>11:50:19</td></tr><tr><td>b2de1243d6fcec57554eabb90fa2c1ef</td><td>2025-01-11</td><td>11:50:19</td></tr><tr><td>a510948d4199c40bc6fba70416f68074</td><td>2025-01-11</td><td>11:50:19</td></tr><tr><td>46112c4640fcd28e69771c436c5e7c90</td><td>2025-01-11</td><td>11:50:19</td></tr><tr><td>fcfd790e688e054e127f0e5c9b053693</td><td>2025-01-11</td><td>11:50:19</td></tr><tr><td>ab590e4dc5ddb17fd25841543b366d9a</td><td>2025-01-11</td><td>11:50:19</td></tr><tr><td>0e858bf96c075f033c071c86775c1f75</td><td>2025-01-11</td><td>11:50:19</td></tr><tr><td>2d6b61ebeddc63b1ecc6860253b9e916</td><td>2025-01-11</td><td>11:50:19</td></tr><tr><td>fe16decaec8e8626c3a7687452e74a83</td><td>2025-01-11</td><td>11:50:19</td></tr><tr><td>66a1efd48b778a78206eb3c6baa422b4</td><td>2025-01-11</td><td>11:50:19</td></tr><tr><td>b1b0e9ed0e312f3393c844dc910fa61c</td><td>2025-01-11</td><td>11:50:19</td></tr><tr><td>741605f72808919c21945e9b50a6c69f</td><td>2025-01-11</td><td>11:50:19</td></tr><tr><td>88be9dd9524f2b1e9c978674e91d6e61</td><td>2025-01-11</td><td>11:50:19</td></tr><tr><td>835a5a7f95fd0abc43a8968ceeaf2f1e</td><td>2025-01-11</td><td>11:50:19</td></tr><tr><td>ee093c933619d026c958c07976c6f31f</td><td>2025-01-11</td><td>11:50:19</td></tr><tr><td>cef70a7ad688027dcfd84dbf16f8152e</td><td>2025-01-11</td><td>11:50:19</td></tr><tr><td>ea9c301c0987280cfba6c9b8a824b1a4</td><td>2025-01-11</td><td>11:50:19</td></tr><tr><td>6e717aa512f0b4c1977a42cab05be16e</td><td>2025-01-11</td><td>11:50:19</td></tr><tr><td>94e502d5a164b0b49eac3b6df28176a6</td><td>2025-01-11</td><td>11:50:19</td></tr><tr><td>4a364f325a512d44b43850d561826503</td><td>2025-01-11</td><td>11:50:19</td></tr><tr><td>4b53906b1190f0dafbbf65693217acdd</td><td>2025-01-11</td><td>11:50:19</td></tr><tr><td>b1dcd3ba77670238a405c7384e38f684</td><td>2025-01-11</td><td>11:50:19</td></tr><tr><td>02c29c5df18aad9f7556d30ff32213b6</td><td>2025-01-11</td><td>11:50:19</td></tr><tr><td>57d1182f801f3abb6d31af949c370d14</td><td>2025-01-11</td><td>11:50:19</td></tr><tr><td>278bfc82f36d7229f398a7dea6f6fc03</td><td>2025-01-11</td><td>11:50:19</td></tr><tr><td>9f7233b294e5ffe58f829d0a20118611</td><td>2025-01-11</td><td>11:50:19</td></tr><tr><td>db3dae36f6cd6b585ca4996ebb9b7285</td><td>2025-01-11</td><td>11:50:19</td></tr><tr><td>0daa961aaa295d60d47913e2551317d5</td><td>2025-01-11</td><td>11:50:19</td></tr><tr><td>9c5c46d4232462f1e1d929ba0e7f5f5c</td><td>2025-01-11</td><td>11:50:19</td></tr><tr><td>93799be29f0981f63c37dabf5b97991d</td><td>2025-01-11</td><td>11:50:19</td></tr><tr><td>d75f5d6b17d6adff69632e1d227689c0</td><td>2025-01-11</td><td>11:50:19</td></tr><tr><td>feeec64a1799e1ed6bcc3880e354c6e9</td><td>2025-01-11</td><td>11:50:19</td></tr><tr><td>2fb5b9de6e267f01a3e7bf8844e04457</td><td>2025-01-11</td><td>11:50:19</td></tr><tr><td>30c72091d216bc0293a1568b6dbd7533</td><td>2025-01-11</td><td>11:50:19</td></tr><tr><td>548910dbaf79618c8f264c23ce348661</td><td>2025-01-11</td><td>11:50:19</td></tr><tr><td>d971132b709cfec20d1eea4620c9a4d7</td><td>2025-01-11</td><td>11:50:19</td></tr></tbody></table></div>"
      ]
     },
     "metadata": {
      "application/vnd.databricks.v1+output": {
       "addedWidgets": {},
       "aggData": [],
       "aggError": "",
       "aggOverflow": false,
       "aggSchema": [],
       "aggSeriesLimitReached": false,
       "aggType": "",
       "arguments": {},
       "columnCustomDisplayInfos": {},
       "data": [
        [
         "42accd3e068caf65a5547a954ef52226",
         "2025-01-11",
         "11:50:19"
        ],
        [
         "2acc394fae1ae319d478236bfdccca01",
         "2025-01-11",
         "11:50:19"
        ],
        [
         "3f1dd817e7f3c2503ce36a3a9ba510b0",
         "2025-01-11",
         "11:50:19"
        ],
        [
         "8ed34a020f06ef6677dc8468746fb860",
         "2025-01-11",
         "11:50:19"
        ],
        [
         "e491132e3986410b477a853108c4dac5",
         "2025-01-11",
         "11:50:19"
        ],
        [
         "d0672bda417d325845d11a4761d20221",
         "2025-01-11",
         "11:50:19"
        ],
        [
         "435de89246c950086d50d31fd73dc7ac",
         "2025-01-11",
         "11:50:19"
        ],
        [
         "a62e79a85ade136120086a5395098a4a",
         "2025-01-11",
         "11:50:19"
        ],
        [
         "f26ddea029f84fa0b30d3557edfa9a8a",
         "2025-01-11",
         "11:50:19"
        ],
        [
         "63f3237bd34ff71d52a7897376bd593e",
         "2025-01-11",
         "11:50:19"
        ],
        [
         "3cce5cfb8fdd3fb680c1ce1def0e2495",
         "2025-01-11",
         "11:50:19"
        ],
        [
         "3b9e4e75a1affed1eb39eb92e8fea717",
         "2025-01-11",
         "11:50:19"
        ],
        [
         "95f8c71735d42cfbb7a1b4b2ce129913",
         "2025-01-11",
         "11:50:19"
        ],
        [
         "6a8408ee66697a4eb5ed4122889c16ba",
         "2025-01-11",
         "11:50:19"
        ],
        [
         "e24d3d396169c6d4cd2b0265531bde9f",
         "2025-01-11",
         "11:50:19"
        ],
        [
         "b45eae92ee6866a44edcbb5712108bda",
         "2025-01-11",
         "11:50:19"
        ],
        [
         "1ff27947c3fe33e51644542db639b007",
         "2025-01-11",
         "11:50:19"
        ],
        [
         "46d73ba16cb00ba670ad9469e6ab5a9e",
         "2025-01-11",
         "11:50:19"
        ],
        [
         "6817a76c5a3a1edc02b92bfce37d15c0",
         "2025-01-11",
         "11:50:19"
        ],
        [
         "e1a1f99f4ede27df1857a10e39c70990",
         "2025-01-11",
         "11:50:19"
        ],
        [
         "c745202d49e31893ddc875abd8aeffa2",
         "2025-01-11",
         "11:50:19"
        ],
        [
         "2ebdf8f7ae242778fe75a5ccc5fa2982",
         "2025-01-11",
         "11:50:19"
        ],
        [
         "4af874e16e0e08dd3d36b32a20503cf7",
         "2025-01-11",
         "11:50:19"
        ],
        [
         "f2d0680e6f1c9a34e3acd477ba47b3c4",
         "2025-01-11",
         "11:50:19"
        ],
        [
         "ab6a579cc8a0390b732604553e545278",
         "2025-01-11",
         "11:50:19"
        ],
        [
         "6a83e13eeabf76cb23e84aab37b84996",
         "2025-01-11",
         "11:50:19"
        ],
        [
         "f3de2d7500ad020cef52e073e782ab6b",
         "2025-01-11",
         "11:50:19"
        ],
        [
         "a01eeda0a4fb0b526fe2ce7f0522135b",
         "2025-01-11",
         "11:50:19"
        ],
        [
         "9b22bd3d54b596f5ff75c1e708879683",
         "2025-01-11",
         "11:50:19"
        ],
        [
         "239013dc73d7755ff4b3444e6404b4fe",
         "2025-01-11",
         "11:50:19"
        ],
        [
         "362708dd2360b9a598dd7649f9bb0fe1",
         "2025-01-11",
         "11:50:19"
        ],
        [
         "42f1943e813dec1ff411748ed31a7e9a",
         "2025-01-11",
         "11:50:19"
        ],
        [
         "663eb7371c0eefdc3394d11e070f7c01",
         "2025-01-11",
         "11:50:19"
        ],
        [
         "ac85550e8e3becc9be51f1d99c041ca3",
         "2025-01-11",
         "11:50:19"
        ],
        [
         "7c04004cc732958d7621c9ab4421ae86",
         "2025-01-11",
         "11:50:19"
        ],
        [
         "62db36e419cda2f7b2bba8ddeb6c6ba9",
         "2025-01-11",
         "11:50:19"
        ],
        [
         "ea4372338f7d15af0a5b56a7a1564c6e",
         "2025-01-11",
         "11:50:19"
        ],
        [
         "c060c525a2066118b6afb5600ab2e7c6",
         "2025-01-11",
         "11:50:19"
        ],
        [
         "f894360ef36685712021db84cb6ed147",
         "2025-01-11",
         "11:50:19"
        ],
        [
         "6758c4922873e29ff56cd7af280494df",
         "2025-01-11",
         "11:50:19"
        ],
        [
         "82c3656f80387b228874e9a6d6766b7e",
         "2025-01-11",
         "11:50:19"
        ],
        [
         "e682c628077a0f517481289ef0f91316",
         "2025-01-11",
         "11:50:19"
        ],
        [
         "b2de1243d6fcec57554eabb90fa2c1ef",
         "2025-01-11",
         "11:50:19"
        ],
        [
         "a510948d4199c40bc6fba70416f68074",
         "2025-01-11",
         "11:50:19"
        ],
        [
         "46112c4640fcd28e69771c436c5e7c90",
         "2025-01-11",
         "11:50:19"
        ],
        [
         "fcfd790e688e054e127f0e5c9b053693",
         "2025-01-11",
         "11:50:19"
        ],
        [
         "ab590e4dc5ddb17fd25841543b366d9a",
         "2025-01-11",
         "11:50:19"
        ],
        [
         "0e858bf96c075f033c071c86775c1f75",
         "2025-01-11",
         "11:50:19"
        ],
        [
         "2d6b61ebeddc63b1ecc6860253b9e916",
         "2025-01-11",
         "11:50:19"
        ],
        [
         "fe16decaec8e8626c3a7687452e74a83",
         "2025-01-11",
         "11:50:19"
        ],
        [
         "66a1efd48b778a78206eb3c6baa422b4",
         "2025-01-11",
         "11:50:19"
        ],
        [
         "b1b0e9ed0e312f3393c844dc910fa61c",
         "2025-01-11",
         "11:50:19"
        ],
        [
         "741605f72808919c21945e9b50a6c69f",
         "2025-01-11",
         "11:50:19"
        ],
        [
         "88be9dd9524f2b1e9c978674e91d6e61",
         "2025-01-11",
         "11:50:19"
        ],
        [
         "835a5a7f95fd0abc43a8968ceeaf2f1e",
         "2025-01-11",
         "11:50:19"
        ],
        [
         "ee093c933619d026c958c07976c6f31f",
         "2025-01-11",
         "11:50:19"
        ],
        [
         "cef70a7ad688027dcfd84dbf16f8152e",
         "2025-01-11",
         "11:50:19"
        ],
        [
         "ea9c301c0987280cfba6c9b8a824b1a4",
         "2025-01-11",
         "11:50:19"
        ],
        [
         "6e717aa512f0b4c1977a42cab05be16e",
         "2025-01-11",
         "11:50:19"
        ],
        [
         "94e502d5a164b0b49eac3b6df28176a6",
         "2025-01-11",
         "11:50:19"
        ],
        [
         "4a364f325a512d44b43850d561826503",
         "2025-01-11",
         "11:50:19"
        ],
        [
         "4b53906b1190f0dafbbf65693217acdd",
         "2025-01-11",
         "11:50:19"
        ],
        [
         "b1dcd3ba77670238a405c7384e38f684",
         "2025-01-11",
         "11:50:19"
        ],
        [
         "02c29c5df18aad9f7556d30ff32213b6",
         "2025-01-11",
         "11:50:19"
        ],
        [
         "57d1182f801f3abb6d31af949c370d14",
         "2025-01-11",
         "11:50:19"
        ],
        [
         "278bfc82f36d7229f398a7dea6f6fc03",
         "2025-01-11",
         "11:50:19"
        ],
        [
         "9f7233b294e5ffe58f829d0a20118611",
         "2025-01-11",
         "11:50:19"
        ],
        [
         "db3dae36f6cd6b585ca4996ebb9b7285",
         "2025-01-11",
         "11:50:19"
        ],
        [
         "0daa961aaa295d60d47913e2551317d5",
         "2025-01-11",
         "11:50:19"
        ],
        [
         "9c5c46d4232462f1e1d929ba0e7f5f5c",
         "2025-01-11",
         "11:50:19"
        ],
        [
         "93799be29f0981f63c37dabf5b97991d",
         "2025-01-11",
         "11:50:19"
        ],
        [
         "d75f5d6b17d6adff69632e1d227689c0",
         "2025-01-11",
         "11:50:19"
        ],
        [
         "feeec64a1799e1ed6bcc3880e354c6e9",
         "2025-01-11",
         "11:50:19"
        ],
        [
         "2fb5b9de6e267f01a3e7bf8844e04457",
         "2025-01-11",
         "11:50:19"
        ],
        [
         "30c72091d216bc0293a1568b6dbd7533",
         "2025-01-11",
         "11:50:19"
        ],
        [
         "548910dbaf79618c8f264c23ce348661",
         "2025-01-11",
         "11:50:19"
        ],
        [
         "d971132b709cfec20d1eea4620c9a4d7",
         "2025-01-11",
         "11:50:19"
        ]
       ],
       "datasetInfos": [],
       "dbfsResultPath": null,
       "isJsonSchema": true,
       "metadata": {},
       "overflow": false,
       "plotOptions": {
        "customPlotOptions": {},
        "displayType": "table",
        "pivotAggregation": null,
        "pivotColumns": null,
        "xColumns": null,
        "yColumns": null
       },
       "removedWidgets": [],
       "schema": [
        {
         "metadata": "{}",
         "name": "row_hash",
         "type": "\"string\""
        },
        {
         "metadata": "{}",
         "name": "sysdate",
         "type": "\"date\""
        },
        {
         "metadata": "{}",
         "name": "current_timestamp",
         "type": "\"string\""
        }
       ],
       "type": "table"
      }
     },
     "output_type": "display_data"
    }
   ],
   "source": [
    "circuits_row_hash_df.display()"
   ]
  },
  {
   "cell_type": "code",
   "execution_count": 0,
   "metadata": {
    "application/vnd.databricks.v1+cell": {
     "cellMetadata": {
      "byteLimit": 2048000,
      "rowLimit": 10000
     },
     "inputWidgets": {},
     "nuid": "b72d316b-92c5-4c2a-a032-0355ea847d99",
     "showTitle": false,
     "tableResultSettingsMap": {},
     "title": ""
    }
   },
   "outputs": [],
   "source": [
    "# removing duplicate from tables\n",
    "circuits_df = circuits_df.alias(\"c_old\")\\\n",
    "    .join(circuits_row_hash_df.alias(\"c_hash\"),\n",
    "          col(\"c_old.row_hash\") == col(\"c_hash.row_hash\"), \"left\")\\\n",
    "    .where(col(\"c_hash.row_hash\").isNull())\\\n",
    "    .select(\"c_old.*\")"
   ]
  },
  {
   "cell_type": "code",
   "execution_count": 0,
   "metadata": {
    "application/vnd.databricks.v1+cell": {
     "cellMetadata": {
      "byteLimit": 2048000,
      "rowLimit": 10000
     },
     "inputWidgets": {},
     "nuid": "65100291-2971-4ac1-abaa-e1f3d8e622cb",
     "showTitle": false,
     "tableResultSettingsMap": {},
     "title": ""
    }
   },
   "outputs": [],
   "source": [
    "# getting new hash data\n",
    "circuits_row_hash_new_df = circuits_df\\\n",
    "    .withColumn(\"sysdate\", current_date())\\\n",
    "    .withColumn(\"current_timestamp\", date_format(current_timestamp(), \"HH:mm:ss\"))\\\n",
    "    .select(\"row_hash\", \"sysdate\", \"current_timestamp\")"
   ]
  },
  {
   "cell_type": "code",
   "execution_count": 0,
   "metadata": {
    "application/vnd.databricks.v1+cell": {
     "cellMetadata": {
      "byteLimit": 2048000,
      "rowLimit": 10000
     },
     "inputWidgets": {},
     "nuid": "03a95a4f-2ff6-4da7-a266-a657ec103a96",
     "showTitle": false,
     "tableResultSettingsMap": {},
     "title": ""
    }
   },
   "outputs": [],
   "source": [
    "# adding hash to existing hash table\n",
    "circuits_row_hash_df = circuits_row_hash_df.union(circuits_row_hash_new_df)\n"
   ]
  },
  {
   "cell_type": "code",
   "execution_count": 0,
   "metadata": {
    "application/vnd.databricks.v1+cell": {
     "cellMetadata": {
      "byteLimit": 2048000,
      "rowLimit": 10000
     },
     "inputWidgets": {},
     "nuid": "21dd3318-5c7a-4a72-980d-d67ef6cc5da0",
     "showTitle": false,
     "tableResultSettingsMap": {},
     "title": ""
    }
   },
   "outputs": [
    {
     "output_type": "stream",
     "name": "stdout",
     "output_type": "stream",
     "text": [
      "<class 'pyspark.sql.dataframe.DataFrame'>\n<class 'pyspark.sql.dataframe.DataFrame'>\n<class 'pyspark.sql.dataframe.DataFrame'>\n<class 'pyspark.sql.dataframe.DataFrame'>\n<class 'pyspark.sql.dataframe.DataFrame'>\n<class 'pyspark.sql.dataframe.DataFrame'>\n<class 'pyspark.sql.dataframe.DataFrame'>\n<class 'pyspark.sql.dataframe.DataFrame'>\n<class 'pyspark.sql.dataframe.DataFrame'>\n<class 'pyspark.sql.dataframe.DataFrame'>\n<class 'pyspark.sql.dataframe.DataFrame'>\n<class 'pyspark.sql.dataframe.DataFrame'>\n<class 'pyspark.sql.dataframe.DataFrame'>\n<class 'pyspark.sql.dataframe.DataFrame'>\n"
     ]
    }
   ],
   "source": [
    "#saving updated hash table\n",
    "schema = 'f1/row_hash_data'\n",
    "\n",
    "# Dictionary to hold DataFrames\n",
    "dataframes = {}\n",
    "dataframes[\"circuits\"] = circuits_row_hash_df\n",
    "dataframes[\"constructor_results\"] = constructor_results_row_hash_df\n",
    "dataframes[\"constructor_standings\"] = constructor_standings_row_hash_df\n",
    "dataframes[\"constructors\"] = constructors_row_hash_df\n",
    "dataframes[\"driver_standings\"] = driver_standings_row_hash_df\n",
    "dataframes[\"lap_times\"] = lap_times_row_hash_df\n",
    "dataframes[\"pit_stops\"] = pit_stops_row_hash_df\n",
    "dataframes[\"qualifying\"] = qualifying_row_hash_df\n",
    "dataframes[\"races\"] = races_row_hash_df\n",
    "dataframes[\"results\"] = results_row_hash_df\n",
    "dataframes[\"seasons\"] = seasons_row_hash_df\n",
    "dataframes[\"sprint_results\"] = sprint_results_row_hash_df\n",
    "dataframes[\"status\"] = status_row_hash_df\n",
    "dataframes[\"drivers\"] = drivers_row_hash_df\n",
    "\n",
    "\n",
    "for df in dataframes:    \n",
    "    print(type(dataframes[df]))\n",
    "    if not dataframes[df].isEmpty():\n",
    "        dataframes[df].write.format(\"delta\").mode(\"append\")\\\n",
    "            .save(os.path.join(os.path.join(silver_container, schema), df+\"_row_hash\"))       \n"
   ]
  },
  {
   "cell_type": "code",
   "execution_count": 0,
   "metadata": {
    "application/vnd.databricks.v1+cell": {
     "cellMetadata": {
      "byteLimit": 2048000,
      "rowLimit": 10000
     },
     "inputWidgets": {},
     "nuid": "8248c1df-b290-4830-be58-408ffc665c97",
     "showTitle": false,
     "tableResultSettingsMap": {},
     "title": ""
    }
   },
   "outputs": [
    {
     "output_type": "stream",
     "name": "stdout",
     "output_type": "stream",
     "text": [
      "<class 'pyspark.sql.dataframe.DataFrame'>\n<class 'pyspark.sql.dataframe.DataFrame'>\n<class 'pyspark.sql.dataframe.DataFrame'>\n<class 'pyspark.sql.dataframe.DataFrame'>\n<class 'pyspark.sql.dataframe.DataFrame'>\n<class 'pyspark.sql.dataframe.DataFrame'>\n<class 'pyspark.sql.dataframe.DataFrame'>\n<class 'pyspark.sql.dataframe.DataFrame'>\n<class 'pyspark.sql.dataframe.DataFrame'>\n<class 'pyspark.sql.dataframe.DataFrame'>\n<class 'pyspark.sql.dataframe.DataFrame'>\n<class 'pyspark.sql.dataframe.DataFrame'>\n<class 'pyspark.sql.dataframe.DataFrame'>\n<class 'pyspark.sql.dataframe.DataFrame'>\n"
     ]
    }
   ],
   "source": [
    "\n",
    "schema = 'f1'\n",
    "\n",
    "# Dictionary to hold DataFrames\n",
    "dataframes = {}\n",
    "dataframes[\"circuits\"] = circuits_df\n",
    "dataframes[\"constructor_results\"] = constructor_results_df\n",
    "dataframes[\"constructor_standings\"] = constructor_standings_df\n",
    "dataframes[\"constructors\"] = constructors_df\n",
    "dataframes[\"driver_standings\"] = driver_standings_df\n",
    "dataframes[\"lap_times\"] = lap_times_df\n",
    "dataframes[\"pit_stops\"] = pit_stops_df\n",
    "dataframes[\"qualifying\"] = qualifying_df\n",
    "dataframes[\"races\"] = races_df\n",
    "dataframes[\"results\"] = results_df\n",
    "dataframes[\"seasons\"] = seasons_df\n",
    "dataframes[\"sprint_results\"] = sprint_results_df\n",
    "dataframes[\"status\"] = status_df\n",
    "dataframes[\"drivers\"] = drivers_df\n",
    "\n",
    "\n",
    "for df in dataframes:    \n",
    "    print(type(dataframes[df]))\n",
    "    dataframes[df].write.format(\"delta\").mode(\"overwrite\")\\\n",
    "        .save(os.path.join(os.path.join(silver_container, schema), df))       "
   ]
  },
  {
   "cell_type": "code",
   "execution_count": 0,
   "metadata": {
    "application/vnd.databricks.v1+cell": {
     "cellMetadata": {
      "byteLimit": 2048000,
      "rowLimit": 10000
     },
     "inputWidgets": {},
     "nuid": "5051ed48-1b24-43fa-ba17-49bbc2522f6f",
     "showTitle": false,
     "tableResultSettingsMap": {},
     "title": ""
    }
   },
   "outputs": [
    {
     "output_type": "display_data",
     "data": {
      "text/html": [
       "<style scoped>\n",
       "  .table-result-container {\n",
       "    max-height: 300px;\n",
       "    overflow: auto;\n",
       "  }\n",
       "  table, th, td {\n",
       "    border: 1px solid black;\n",
       "    border-collapse: collapse;\n",
       "  }\n",
       "  th, td {\n",
       "    padding: 5px;\n",
       "  }\n",
       "  th {\n",
       "    text-align: left;\n",
       "  }\n",
       "</style><div class='table-result-container'><table class='table-result'><thead style='background-color: white'><tr><th>row_hash</th><th>sysdate</th><th>current_timestamp</th></tr></thead><tbody><tr><td>42accd3e068caf65a5547a954ef52226</td><td>2025-01-11</td><td>09:25:31</td></tr><tr><td>2acc394fae1ae319d478236bfdccca01</td><td>2025-01-11</td><td>09:25:31</td></tr><tr><td>3f1dd817e7f3c2503ce36a3a9ba510b0</td><td>2025-01-11</td><td>09:25:31</td></tr><tr><td>8ed34a020f06ef6677dc8468746fb860</td><td>2025-01-11</td><td>09:25:31</td></tr><tr><td>e491132e3986410b477a853108c4dac5</td><td>2025-01-11</td><td>09:25:31</td></tr><tr><td>d0672bda417d325845d11a4761d20221</td><td>2025-01-11</td><td>09:25:31</td></tr><tr><td>435de89246c950086d50d31fd73dc7ac</td><td>2025-01-11</td><td>09:25:31</td></tr><tr><td>a62e79a85ade136120086a5395098a4a</td><td>2025-01-11</td><td>09:25:31</td></tr><tr><td>f26ddea029f84fa0b30d3557edfa9a8a</td><td>2025-01-11</td><td>09:25:31</td></tr><tr><td>63f3237bd34ff71d52a7897376bd593e</td><td>2025-01-11</td><td>09:25:31</td></tr><tr><td>3cce5cfb8fdd3fb680c1ce1def0e2495</td><td>2025-01-11</td><td>09:25:31</td></tr><tr><td>3b9e4e75a1affed1eb39eb92e8fea717</td><td>2025-01-11</td><td>09:25:31</td></tr><tr><td>95f8c71735d42cfbb7a1b4b2ce129913</td><td>2025-01-11</td><td>09:25:31</td></tr><tr><td>6a8408ee66697a4eb5ed4122889c16ba</td><td>2025-01-11</td><td>09:25:31</td></tr><tr><td>e24d3d396169c6d4cd2b0265531bde9f</td><td>2025-01-11</td><td>09:25:31</td></tr><tr><td>b45eae92ee6866a44edcbb5712108bda</td><td>2025-01-11</td><td>09:25:31</td></tr><tr><td>1ff27947c3fe33e51644542db639b007</td><td>2025-01-11</td><td>09:25:31</td></tr><tr><td>46d73ba16cb00ba670ad9469e6ab5a9e</td><td>2025-01-11</td><td>09:25:31</td></tr><tr><td>6817a76c5a3a1edc02b92bfce37d15c0</td><td>2025-01-11</td><td>09:25:31</td></tr><tr><td>e1a1f99f4ede27df1857a10e39c70990</td><td>2025-01-11</td><td>09:25:31</td></tr><tr><td>c745202d49e31893ddc875abd8aeffa2</td><td>2025-01-11</td><td>09:25:31</td></tr><tr><td>2ebdf8f7ae242778fe75a5ccc5fa2982</td><td>2025-01-11</td><td>09:25:31</td></tr><tr><td>4af874e16e0e08dd3d36b32a20503cf7</td><td>2025-01-11</td><td>09:25:31</td></tr><tr><td>f2d0680e6f1c9a34e3acd477ba47b3c4</td><td>2025-01-11</td><td>09:25:31</td></tr><tr><td>ab6a579cc8a0390b732604553e545278</td><td>2025-01-11</td><td>09:25:31</td></tr><tr><td>6a83e13eeabf76cb23e84aab37b84996</td><td>2025-01-11</td><td>09:25:31</td></tr><tr><td>f3de2d7500ad020cef52e073e782ab6b</td><td>2025-01-11</td><td>09:25:31</td></tr><tr><td>a01eeda0a4fb0b526fe2ce7f0522135b</td><td>2025-01-11</td><td>09:25:31</td></tr><tr><td>9b22bd3d54b596f5ff75c1e708879683</td><td>2025-01-11</td><td>09:25:31</td></tr><tr><td>239013dc73d7755ff4b3444e6404b4fe</td><td>2025-01-11</td><td>09:25:31</td></tr><tr><td>362708dd2360b9a598dd7649f9bb0fe1</td><td>2025-01-11</td><td>09:25:31</td></tr><tr><td>42f1943e813dec1ff411748ed31a7e9a</td><td>2025-01-11</td><td>09:25:31</td></tr><tr><td>663eb7371c0eefdc3394d11e070f7c01</td><td>2025-01-11</td><td>09:25:31</td></tr><tr><td>ac85550e8e3becc9be51f1d99c041ca3</td><td>2025-01-11</td><td>09:25:31</td></tr><tr><td>7c04004cc732958d7621c9ab4421ae86</td><td>2025-01-11</td><td>09:25:31</td></tr><tr><td>62db36e419cda2f7b2bba8ddeb6c6ba9</td><td>2025-01-11</td><td>09:25:31</td></tr><tr><td>ea4372338f7d15af0a5b56a7a1564c6e</td><td>2025-01-11</td><td>09:25:31</td></tr><tr><td>c060c525a2066118b6afb5600ab2e7c6</td><td>2025-01-11</td><td>09:25:31</td></tr><tr><td>f894360ef36685712021db84cb6ed147</td><td>2025-01-11</td><td>09:25:31</td></tr><tr><td>6758c4922873e29ff56cd7af280494df</td><td>2025-01-11</td><td>09:25:31</td></tr><tr><td>82c3656f80387b228874e9a6d6766b7e</td><td>2025-01-11</td><td>09:25:31</td></tr><tr><td>e682c628077a0f517481289ef0f91316</td><td>2025-01-11</td><td>09:25:31</td></tr><tr><td>b2de1243d6fcec57554eabb90fa2c1ef</td><td>2025-01-11</td><td>09:25:31</td></tr><tr><td>a510948d4199c40bc6fba70416f68074</td><td>2025-01-11</td><td>09:25:31</td></tr><tr><td>46112c4640fcd28e69771c436c5e7c90</td><td>2025-01-11</td><td>09:25:31</td></tr><tr><td>fcfd790e688e054e127f0e5c9b053693</td><td>2025-01-11</td><td>09:25:31</td></tr><tr><td>ab590e4dc5ddb17fd25841543b366d9a</td><td>2025-01-11</td><td>09:25:31</td></tr><tr><td>0e858bf96c075f033c071c86775c1f75</td><td>2025-01-11</td><td>09:25:31</td></tr><tr><td>2d6b61ebeddc63b1ecc6860253b9e916</td><td>2025-01-11</td><td>09:25:31</td></tr><tr><td>fe16decaec8e8626c3a7687452e74a83</td><td>2025-01-11</td><td>09:25:31</td></tr><tr><td>66a1efd48b778a78206eb3c6baa422b4</td><td>2025-01-11</td><td>09:25:31</td></tr><tr><td>b1b0e9ed0e312f3393c844dc910fa61c</td><td>2025-01-11</td><td>09:25:31</td></tr><tr><td>741605f72808919c21945e9b50a6c69f</td><td>2025-01-11</td><td>09:25:31</td></tr><tr><td>88be9dd9524f2b1e9c978674e91d6e61</td><td>2025-01-11</td><td>09:25:31</td></tr><tr><td>835a5a7f95fd0abc43a8968ceeaf2f1e</td><td>2025-01-11</td><td>09:25:31</td></tr><tr><td>ee093c933619d026c958c07976c6f31f</td><td>2025-01-11</td><td>09:25:31</td></tr><tr><td>cef70a7ad688027dcfd84dbf16f8152e</td><td>2025-01-11</td><td>09:25:31</td></tr><tr><td>ea9c301c0987280cfba6c9b8a824b1a4</td><td>2025-01-11</td><td>09:25:31</td></tr><tr><td>6e717aa512f0b4c1977a42cab05be16e</td><td>2025-01-11</td><td>09:25:31</td></tr><tr><td>94e502d5a164b0b49eac3b6df28176a6</td><td>2025-01-11</td><td>09:25:31</td></tr><tr><td>4a364f325a512d44b43850d561826503</td><td>2025-01-11</td><td>09:25:31</td></tr><tr><td>4b53906b1190f0dafbbf65693217acdd</td><td>2025-01-11</td><td>09:25:31</td></tr><tr><td>b1dcd3ba77670238a405c7384e38f684</td><td>2025-01-11</td><td>09:25:31</td></tr><tr><td>02c29c5df18aad9f7556d30ff32213b6</td><td>2025-01-11</td><td>09:25:31</td></tr><tr><td>57d1182f801f3abb6d31af949c370d14</td><td>2025-01-11</td><td>09:25:31</td></tr><tr><td>278bfc82f36d7229f398a7dea6f6fc03</td><td>2025-01-11</td><td>09:25:31</td></tr><tr><td>9f7233b294e5ffe58f829d0a20118611</td><td>2025-01-11</td><td>09:25:31</td></tr><tr><td>db3dae36f6cd6b585ca4996ebb9b7285</td><td>2025-01-11</td><td>09:25:31</td></tr><tr><td>0daa961aaa295d60d47913e2551317d5</td><td>2025-01-11</td><td>09:25:31</td></tr><tr><td>9c5c46d4232462f1e1d929ba0e7f5f5c</td><td>2025-01-11</td><td>09:25:31</td></tr><tr><td>93799be29f0981f63c37dabf5b97991d</td><td>2025-01-11</td><td>09:25:31</td></tr><tr><td>d75f5d6b17d6adff69632e1d227689c0</td><td>2025-01-11</td><td>09:25:31</td></tr><tr><td>feeec64a1799e1ed6bcc3880e354c6e9</td><td>2025-01-11</td><td>09:25:31</td></tr><tr><td>2fb5b9de6e267f01a3e7bf8844e04457</td><td>2025-01-11</td><td>09:25:31</td></tr><tr><td>30c72091d216bc0293a1568b6dbd7533</td><td>2025-01-11</td><td>09:25:31</td></tr><tr><td>548910dbaf79618c8f264c23ce348661</td><td>2025-01-11</td><td>09:25:31</td></tr><tr><td>d971132b709cfec20d1eea4620c9a4d7</td><td>2025-01-11</td><td>09:25:31</td></tr></tbody></table></div>"
      ]
     },
     "metadata": {
      "application/vnd.databricks.v1+output": {
       "addedWidgets": {},
       "aggData": [],
       "aggError": "",
       "aggOverflow": false,
       "aggSchema": [],
       "aggSeriesLimitReached": false,
       "aggType": "",
       "arguments": {},
       "columnCustomDisplayInfos": {},
       "data": [
        [
         "42accd3e068caf65a5547a954ef52226",
         "2025-01-11",
         "09:25:31"
        ],
        [
         "2acc394fae1ae319d478236bfdccca01",
         "2025-01-11",
         "09:25:31"
        ],
        [
         "3f1dd817e7f3c2503ce36a3a9ba510b0",
         "2025-01-11",
         "09:25:31"
        ],
        [
         "8ed34a020f06ef6677dc8468746fb860",
         "2025-01-11",
         "09:25:31"
        ],
        [
         "e491132e3986410b477a853108c4dac5",
         "2025-01-11",
         "09:25:31"
        ],
        [
         "d0672bda417d325845d11a4761d20221",
         "2025-01-11",
         "09:25:31"
        ],
        [
         "435de89246c950086d50d31fd73dc7ac",
         "2025-01-11",
         "09:25:31"
        ],
        [
         "a62e79a85ade136120086a5395098a4a",
         "2025-01-11",
         "09:25:31"
        ],
        [
         "f26ddea029f84fa0b30d3557edfa9a8a",
         "2025-01-11",
         "09:25:31"
        ],
        [
         "63f3237bd34ff71d52a7897376bd593e",
         "2025-01-11",
         "09:25:31"
        ],
        [
         "3cce5cfb8fdd3fb680c1ce1def0e2495",
         "2025-01-11",
         "09:25:31"
        ],
        [
         "3b9e4e75a1affed1eb39eb92e8fea717",
         "2025-01-11",
         "09:25:31"
        ],
        [
         "95f8c71735d42cfbb7a1b4b2ce129913",
         "2025-01-11",
         "09:25:31"
        ],
        [
         "6a8408ee66697a4eb5ed4122889c16ba",
         "2025-01-11",
         "09:25:31"
        ],
        [
         "e24d3d396169c6d4cd2b0265531bde9f",
         "2025-01-11",
         "09:25:31"
        ],
        [
         "b45eae92ee6866a44edcbb5712108bda",
         "2025-01-11",
         "09:25:31"
        ],
        [
         "1ff27947c3fe33e51644542db639b007",
         "2025-01-11",
         "09:25:31"
        ],
        [
         "46d73ba16cb00ba670ad9469e6ab5a9e",
         "2025-01-11",
         "09:25:31"
        ],
        [
         "6817a76c5a3a1edc02b92bfce37d15c0",
         "2025-01-11",
         "09:25:31"
        ],
        [
         "e1a1f99f4ede27df1857a10e39c70990",
         "2025-01-11",
         "09:25:31"
        ],
        [
         "c745202d49e31893ddc875abd8aeffa2",
         "2025-01-11",
         "09:25:31"
        ],
        [
         "2ebdf8f7ae242778fe75a5ccc5fa2982",
         "2025-01-11",
         "09:25:31"
        ],
        [
         "4af874e16e0e08dd3d36b32a20503cf7",
         "2025-01-11",
         "09:25:31"
        ],
        [
         "f2d0680e6f1c9a34e3acd477ba47b3c4",
         "2025-01-11",
         "09:25:31"
        ],
        [
         "ab6a579cc8a0390b732604553e545278",
         "2025-01-11",
         "09:25:31"
        ],
        [
         "6a83e13eeabf76cb23e84aab37b84996",
         "2025-01-11",
         "09:25:31"
        ],
        [
         "f3de2d7500ad020cef52e073e782ab6b",
         "2025-01-11",
         "09:25:31"
        ],
        [
         "a01eeda0a4fb0b526fe2ce7f0522135b",
         "2025-01-11",
         "09:25:31"
        ],
        [
         "9b22bd3d54b596f5ff75c1e708879683",
         "2025-01-11",
         "09:25:31"
        ],
        [
         "239013dc73d7755ff4b3444e6404b4fe",
         "2025-01-11",
         "09:25:31"
        ],
        [
         "362708dd2360b9a598dd7649f9bb0fe1",
         "2025-01-11",
         "09:25:31"
        ],
        [
         "42f1943e813dec1ff411748ed31a7e9a",
         "2025-01-11",
         "09:25:31"
        ],
        [
         "663eb7371c0eefdc3394d11e070f7c01",
         "2025-01-11",
         "09:25:31"
        ],
        [
         "ac85550e8e3becc9be51f1d99c041ca3",
         "2025-01-11",
         "09:25:31"
        ],
        [
         "7c04004cc732958d7621c9ab4421ae86",
         "2025-01-11",
         "09:25:31"
        ],
        [
         "62db36e419cda2f7b2bba8ddeb6c6ba9",
         "2025-01-11",
         "09:25:31"
        ],
        [
         "ea4372338f7d15af0a5b56a7a1564c6e",
         "2025-01-11",
         "09:25:31"
        ],
        [
         "c060c525a2066118b6afb5600ab2e7c6",
         "2025-01-11",
         "09:25:31"
        ],
        [
         "f894360ef36685712021db84cb6ed147",
         "2025-01-11",
         "09:25:31"
        ],
        [
         "6758c4922873e29ff56cd7af280494df",
         "2025-01-11",
         "09:25:31"
        ],
        [
         "82c3656f80387b228874e9a6d6766b7e",
         "2025-01-11",
         "09:25:31"
        ],
        [
         "e682c628077a0f517481289ef0f91316",
         "2025-01-11",
         "09:25:31"
        ],
        [
         "b2de1243d6fcec57554eabb90fa2c1ef",
         "2025-01-11",
         "09:25:31"
        ],
        [
         "a510948d4199c40bc6fba70416f68074",
         "2025-01-11",
         "09:25:31"
        ],
        [
         "46112c4640fcd28e69771c436c5e7c90",
         "2025-01-11",
         "09:25:31"
        ],
        [
         "fcfd790e688e054e127f0e5c9b053693",
         "2025-01-11",
         "09:25:31"
        ],
        [
         "ab590e4dc5ddb17fd25841543b366d9a",
         "2025-01-11",
         "09:25:31"
        ],
        [
         "0e858bf96c075f033c071c86775c1f75",
         "2025-01-11",
         "09:25:31"
        ],
        [
         "2d6b61ebeddc63b1ecc6860253b9e916",
         "2025-01-11",
         "09:25:31"
        ],
        [
         "fe16decaec8e8626c3a7687452e74a83",
         "2025-01-11",
         "09:25:31"
        ],
        [
         "66a1efd48b778a78206eb3c6baa422b4",
         "2025-01-11",
         "09:25:31"
        ],
        [
         "b1b0e9ed0e312f3393c844dc910fa61c",
         "2025-01-11",
         "09:25:31"
        ],
        [
         "741605f72808919c21945e9b50a6c69f",
         "2025-01-11",
         "09:25:31"
        ],
        [
         "88be9dd9524f2b1e9c978674e91d6e61",
         "2025-01-11",
         "09:25:31"
        ],
        [
         "835a5a7f95fd0abc43a8968ceeaf2f1e",
         "2025-01-11",
         "09:25:31"
        ],
        [
         "ee093c933619d026c958c07976c6f31f",
         "2025-01-11",
         "09:25:31"
        ],
        [
         "cef70a7ad688027dcfd84dbf16f8152e",
         "2025-01-11",
         "09:25:31"
        ],
        [
         "ea9c301c0987280cfba6c9b8a824b1a4",
         "2025-01-11",
         "09:25:31"
        ],
        [
         "6e717aa512f0b4c1977a42cab05be16e",
         "2025-01-11",
         "09:25:31"
        ],
        [
         "94e502d5a164b0b49eac3b6df28176a6",
         "2025-01-11",
         "09:25:31"
        ],
        [
         "4a364f325a512d44b43850d561826503",
         "2025-01-11",
         "09:25:31"
        ],
        [
         "4b53906b1190f0dafbbf65693217acdd",
         "2025-01-11",
         "09:25:31"
        ],
        [
         "b1dcd3ba77670238a405c7384e38f684",
         "2025-01-11",
         "09:25:31"
        ],
        [
         "02c29c5df18aad9f7556d30ff32213b6",
         "2025-01-11",
         "09:25:31"
        ],
        [
         "57d1182f801f3abb6d31af949c370d14",
         "2025-01-11",
         "09:25:31"
        ],
        [
         "278bfc82f36d7229f398a7dea6f6fc03",
         "2025-01-11",
         "09:25:31"
        ],
        [
         "9f7233b294e5ffe58f829d0a20118611",
         "2025-01-11",
         "09:25:31"
        ],
        [
         "db3dae36f6cd6b585ca4996ebb9b7285",
         "2025-01-11",
         "09:25:31"
        ],
        [
         "0daa961aaa295d60d47913e2551317d5",
         "2025-01-11",
         "09:25:31"
        ],
        [
         "9c5c46d4232462f1e1d929ba0e7f5f5c",
         "2025-01-11",
         "09:25:31"
        ],
        [
         "93799be29f0981f63c37dabf5b97991d",
         "2025-01-11",
         "09:25:31"
        ],
        [
         "d75f5d6b17d6adff69632e1d227689c0",
         "2025-01-11",
         "09:25:31"
        ],
        [
         "feeec64a1799e1ed6bcc3880e354c6e9",
         "2025-01-11",
         "09:25:31"
        ],
        [
         "2fb5b9de6e267f01a3e7bf8844e04457",
         "2025-01-11",
         "09:25:31"
        ],
        [
         "30c72091d216bc0293a1568b6dbd7533",
         "2025-01-11",
         "09:25:31"
        ],
        [
         "548910dbaf79618c8f264c23ce348661",
         "2025-01-11",
         "09:25:31"
        ],
        [
         "d971132b709cfec20d1eea4620c9a4d7",
         "2025-01-11",
         "09:25:31"
        ]
       ],
       "datasetInfos": [],
       "dbfsResultPath": null,
       "isJsonSchema": true,
       "metadata": {},
       "overflow": false,
       "plotOptions": {
        "customPlotOptions": {},
        "displayType": "table",
        "pivotAggregation": null,
        "pivotColumns": null,
        "xColumns": null,
        "yColumns": null
       },
       "removedWidgets": [],
       "schema": [
        {
         "metadata": "{}",
         "name": "row_hash",
         "type": "\"string\""
        },
        {
         "metadata": "{}",
         "name": "sysdate",
         "type": "\"date\""
        },
        {
         "metadata": "{}",
         "name": "current_timestamp",
         "type": "\"string\""
        }
       ],
       "type": "table"
      }
     },
     "output_type": "display_data"
    }
   ],
   "source": []
  },
  {
   "cell_type": "code",
   "execution_count": 0,
   "metadata": {
    "application/vnd.databricks.v1+cell": {
     "cellMetadata": {},
     "inputWidgets": {},
     "nuid": "f41df663-da48-4889-9966-3b06dcdd4eac",
     "showTitle": false,
     "tableResultSettingsMap": {},
     "title": ""
    }
   },
   "outputs": [],
   "source": []
  }
 ],
 "metadata": {
  "application/vnd.databricks.v1+notebook": {
   "computePreferences": null,
   "dashboards": [],
   "environmentMetadata": {
    "base_environment": "",
    "client": "1"
   },
   "language": "python",
   "notebookMetadata": {
    "pythonIndentUnit": 4
   },
   "notebookName": "bronze_to_silver_duplicate_check",
   "widgets": {}
  },
  "language_info": {
   "name": "python"
  }
 },
 "nbformat": 4,
 "nbformat_minor": 0
}